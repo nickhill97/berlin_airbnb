{
 "cells": [
  {
   "cell_type": "markdown",
   "metadata": {},
   "source": [
    "# Berlin Airbnb Exploratory Data Analysis"
   ]
  },
  {
   "cell_type": "code",
   "execution_count": 482,
   "metadata": {},
   "outputs": [],
   "source": [
    "import numpy as np\n",
    "import pandas as pd\n",
    "\n",
    "import matplotlib.pyplot as plt\n",
    "%matplotlib inline\n",
    "import seaborn as sns\n",
    "\n",
    "from pathlib import Path\n",
    "import re\n",
    "from collections import Counter\n",
    "from math import sin, cos, sqrt, atan2, radians"
   ]
  },
  {
   "cell_type": "code",
   "execution_count": 483,
   "metadata": {},
   "outputs": [],
   "source": [
    "sns.set(style='whitegrid', palette='coolwarm')"
   ]
  },
  {
   "cell_type": "markdown",
   "metadata": {},
   "source": [
    "## Project Brief\n",
    "\n",
    "For this project we are interested in predicting the price a new airbnb user in Berlin should advertise their property for. We have 6 different tables that have been scraped from airbnb and put on kaggle. The 6 tables are:\n",
    "\n",
    "- Calendar Summary\n",
    "- Listings Summary\n",
    "- Listings Detailed\n",
    "- Neighbourhoods\n",
    "- Reviews\n",
    "- Reviews Detailed\n",
    "\n",
    "As we are interested in predicting the price a new host should advertise their house for, the reviews data will most likely not be useful as this is retrospective data.\n",
    "\n",
    "Firstly, I will explore the data sets and make notes of the data format and usefulness. Then I will clean the data to put in a useful format and perform some feature engineering to create useful information. Then I will attempt to create a model that accurately predicts the price of an airbnb in Berlin, given the property specifications."
   ]
  },
  {
   "cell_type": "code",
   "execution_count": 484,
   "metadata": {},
   "outputs": [],
   "source": [
    "# Read in all the tables\n",
    "DATA_PATH = Path(\"../data/raw/\")\n",
    "calendar_summary = pd.read_csv(DATA_PATH/\"calendar_summary.csv\",parse_dates=[\"date\"])\n",
    "listings = pd.read_csv(DATA_PATH/\"listings.csv\", parse_dates=[\"last_review\"])\n",
    "listing_summary = pd.read_csv(\n",
    "    DATA_PATH/\"listings_summary.csv\",\n",
    "    parse_dates=[\n",
    "        \"last_scraped\",\n",
    "        \"calendar_last_scraped\",\n",
    "        \"last_review\",\n",
    "        \"first_review\",\n",
    "        \"host_since\"\n",
    "    ]\n",
    ")\n",
    "neighbourhoods = pd.read_csv(DATA_PATH/\"neighbourhoods.csv\")\n",
    "reviews = pd.read_csv(DATA_PATH/\"reviews.csv\", parse_dates=[\"date\"])\n",
    "reviews_summary = pd.read_csv(DATA_PATH/\"reviews_summary.csv\", parse_dates=[\"date\"])"
   ]
  },
  {
   "cell_type": "markdown",
   "metadata": {},
   "source": [
    "# Describe the data"
   ]
  },
  {
   "cell_type": "markdown",
   "metadata": {},
   "source": [
    "Calendar data for listings in Berlin"
   ]
  },
  {
   "cell_type": "code",
   "execution_count": 485,
   "metadata": {},
   "outputs": [
    {
     "name": "stdout",
     "output_type": "stream",
     "text": [
      "<class 'pandas.core.frame.DataFrame'>\n",
      "RangeIndex: 8231480 entries, 0 to 8231479\n",
      "Data columns (total 4 columns):\n",
      "listing_id    int64\n",
      "date          datetime64[ns]\n",
      "available     object\n",
      "price         object\n",
      "dtypes: datetime64[ns](1), int64(1), object(2)\n",
      "memory usage: 251.2+ MB\n"
     ]
    }
   ],
   "source": [
    "calendar_summary.info()"
   ]
  },
  {
   "cell_type": "markdown",
   "metadata": {},
   "source": [
    "Listing summary information for Berlin"
   ]
  },
  {
   "cell_type": "code",
   "execution_count": 486,
   "metadata": {},
   "outputs": [
    {
     "name": "stdout",
     "output_type": "stream",
     "text": [
      "<class 'pandas.core.frame.DataFrame'>\n",
      "RangeIndex: 22552 entries, 0 to 22551\n",
      "Data columns (total 16 columns):\n",
      "id                                22552 non-null int64\n",
      "name                              22493 non-null object\n",
      "host_id                           22552 non-null int64\n",
      "host_name                         22526 non-null object\n",
      "neighbourhood_group               22552 non-null object\n",
      "neighbourhood                     22552 non-null object\n",
      "latitude                          22552 non-null float64\n",
      "longitude                         22552 non-null float64\n",
      "room_type                         22552 non-null object\n",
      "price                             22552 non-null int64\n",
      "minimum_nights                    22552 non-null int64\n",
      "number_of_reviews                 22552 non-null int64\n",
      "last_review                       18644 non-null datetime64[ns]\n",
      "reviews_per_month                 18638 non-null float64\n",
      "calculated_host_listings_count    22552 non-null int64\n",
      "availability_365                  22552 non-null int64\n",
      "dtypes: datetime64[ns](1), float64(3), int64(7), object(5)\n",
      "memory usage: 2.8+ MB\n"
     ]
    }
   ],
   "source": [
    "listings.info()"
   ]
  },
  {
   "cell_type": "markdown",
   "metadata": {},
   "source": [
    "More detailed listing information for Berlin"
   ]
  },
  {
   "cell_type": "code",
   "execution_count": 487,
   "metadata": {},
   "outputs": [
    {
     "name": "stdout",
     "output_type": "stream",
     "text": [
      "<class 'pandas.core.frame.DataFrame'>\n",
      "RangeIndex: 22552 entries, 0 to 22551\n",
      "Data columns (total 96 columns):\n",
      "id                                  22552 non-null int64\n",
      "listing_url                         22552 non-null object\n",
      "scrape_id                           22552 non-null int64\n",
      "last_scraped                        22552 non-null datetime64[ns]\n",
      "name                                22493 non-null object\n",
      "summary                             21589 non-null object\n",
      "space                               14020 non-null object\n",
      "description                         22349 non-null object\n",
      "experiences_offered                 22552 non-null object\n",
      "neighborhood_overview               11540 non-null object\n",
      "notes                               7215 non-null object\n",
      "transit                             13036 non-null object\n",
      "access                              10837 non-null object\n",
      "interaction                         10406 non-null object\n",
      "house_rules                         11449 non-null object\n",
      "thumbnail_url                       0 non-null float64\n",
      "medium_url                          0 non-null float64\n",
      "picture_url                         22552 non-null object\n",
      "xl_picture_url                      0 non-null float64\n",
      "host_id                             22552 non-null int64\n",
      "host_url                            22552 non-null object\n",
      "host_name                           22526 non-null object\n",
      "host_since                          22526 non-null datetime64[ns]\n",
      "host_location                       22436 non-null object\n",
      "host_about                          11189 non-null object\n",
      "host_response_time                  9658 non-null object\n",
      "host_response_rate                  9657 non-null object\n",
      "host_acceptance_rate                0 non-null float64\n",
      "host_is_superhost                   22526 non-null object\n",
      "host_thumbnail_url                  22526 non-null object\n",
      "host_picture_url                    22526 non-null object\n",
      "host_neighbourhood                  17458 non-null object\n",
      "host_listings_count                 22526 non-null float64\n",
      "host_total_listings_count           22526 non-null float64\n",
      "host_verifications                  22552 non-null object\n",
      "host_has_profile_pic                22526 non-null object\n",
      "host_identity_verified              22526 non-null object\n",
      "street                              22552 non-null object\n",
      "neighbourhood                       21421 non-null object\n",
      "neighbourhood_cleansed              22552 non-null object\n",
      "neighbourhood_group_cleansed        22552 non-null object\n",
      "city                                22547 non-null object\n",
      "state                               22468 non-null object\n",
      "zipcode                             21896 non-null object\n",
      "market                              22489 non-null object\n",
      "smart_location                      22552 non-null object\n",
      "country_code                        22552 non-null object\n",
      "country                             22552 non-null object\n",
      "latitude                            22552 non-null float64\n",
      "longitude                           22552 non-null float64\n",
      "is_location_exact                   22552 non-null object\n",
      "property_type                       22552 non-null object\n",
      "room_type                           22552 non-null object\n",
      "accommodates                        22552 non-null int64\n",
      "bathrooms                           22520 non-null float64\n",
      "bedrooms                            22534 non-null float64\n",
      "beds                                22512 non-null float64\n",
      "bed_type                            22552 non-null object\n",
      "amenities                           22552 non-null object\n",
      "square_feet                         446 non-null float64\n",
      "price                               22552 non-null object\n",
      "weekly_price                        3681 non-null object\n",
      "monthly_price                       2659 non-null object\n",
      "security_deposit                    13191 non-null object\n",
      "cleaning_fee                        15406 non-null object\n",
      "guests_included                     22552 non-null int64\n",
      "extra_people                        22552 non-null object\n",
      "minimum_nights                      22552 non-null int64\n",
      "maximum_nights                      22552 non-null int64\n",
      "calendar_updated                    22552 non-null object\n",
      "has_availability                    22552 non-null object\n",
      "availability_30                     22552 non-null int64\n",
      "availability_60                     22552 non-null int64\n",
      "availability_90                     22552 non-null int64\n",
      "availability_365                    22552 non-null int64\n",
      "calendar_last_scraped               22552 non-null datetime64[ns]\n",
      "number_of_reviews                   22552 non-null int64\n",
      "first_review                        18638 non-null datetime64[ns]\n",
      "last_review                         18644 non-null datetime64[ns]\n",
      "review_scores_rating                18163 non-null float64\n",
      "review_scores_accuracy              18138 non-null float64\n",
      "review_scores_cleanliness           18141 non-null float64\n",
      "review_scores_checkin               18120 non-null float64\n",
      "review_scores_communication         18134 non-null float64\n",
      "review_scores_location              18121 non-null float64\n",
      "review_scores_value                 18117 non-null float64\n",
      "requires_license                    22552 non-null object\n",
      "license                             1638 non-null object\n",
      "jurisdiction_names                  0 non-null float64\n",
      "instant_bookable                    22552 non-null object\n",
      "is_business_travel_ready            22552 non-null object\n",
      "cancellation_policy                 22552 non-null object\n",
      "require_guest_profile_picture       22552 non-null object\n",
      "require_guest_phone_verification    22552 non-null object\n",
      "calculated_host_listings_count      22552 non-null int64\n",
      "reviews_per_month                   18638 non-null float64\n",
      "dtypes: datetime64[ns](5), float64(21), int64(13), object(57)\n",
      "memory usage: 16.5+ MB\n"
     ]
    }
   ],
   "source": [
    "listing_summary.info()"
   ]
  },
  {
   "cell_type": "code",
   "execution_count": 488,
   "metadata": {},
   "outputs": [],
   "source": [
    "listings_detailed = listing_summary\n",
    "listings_summary = listings"
   ]
  },
  {
   "cell_type": "markdown",
   "metadata": {},
   "source": [
    "Berlin neighbourhood data"
   ]
  },
  {
   "cell_type": "code",
   "execution_count": 489,
   "metadata": {},
   "outputs": [
    {
     "name": "stdout",
     "output_type": "stream",
     "text": [
      "<class 'pandas.core.frame.DataFrame'>\n",
      "RangeIndex: 139 entries, 0 to 138\n",
      "Data columns (total 2 columns):\n",
      "neighbourhood_group    138 non-null object\n",
      "neighbourhood          138 non-null object\n",
      "dtypes: object(2)\n",
      "memory usage: 2.3+ KB\n"
     ]
    }
   ],
   "source": [
    "neighbourhoods.info()"
   ]
  },
  {
   "cell_type": "markdown",
   "metadata": {},
   "source": [
    "Summary reviews for listings in Berlin"
   ]
  },
  {
   "cell_type": "code",
   "execution_count": 490,
   "metadata": {},
   "outputs": [
    {
     "name": "stdout",
     "output_type": "stream",
     "text": [
      "<class 'pandas.core.frame.DataFrame'>\n",
      "RangeIndex: 401963 entries, 0 to 401962\n",
      "Data columns (total 2 columns):\n",
      "listing_id    401963 non-null int64\n",
      "date          401963 non-null datetime64[ns]\n",
      "dtypes: datetime64[ns](1), int64(1)\n",
      "memory usage: 6.1 MB\n"
     ]
    }
   ],
   "source": [
    "reviews.info()"
   ]
  },
  {
   "cell_type": "markdown",
   "metadata": {},
   "source": [
    "Detailed reviews information for listings in Berlin"
   ]
  },
  {
   "cell_type": "code",
   "execution_count": 491,
   "metadata": {},
   "outputs": [
    {
     "name": "stdout",
     "output_type": "stream",
     "text": [
      "<class 'pandas.core.frame.DataFrame'>\n",
      "RangeIndex: 401963 entries, 0 to 401962\n",
      "Data columns (total 6 columns):\n",
      "listing_id       401963 non-null int64\n",
      "id               401963 non-null int64\n",
      "date             401963 non-null datetime64[ns]\n",
      "reviewer_id      401963 non-null int64\n",
      "reviewer_name    401963 non-null object\n",
      "comments         401467 non-null object\n",
      "dtypes: datetime64[ns](1), int64(3), object(2)\n",
      "memory usage: 18.4+ MB\n"
     ]
    }
   ],
   "source": [
    "reviews_summary.info()"
   ]
  },
  {
   "cell_type": "code",
   "execution_count": 492,
   "metadata": {},
   "outputs": [],
   "source": [
    "reviews_detailed = reviews_summary\n",
    "reviews_summary = reviews"
   ]
  },
  {
   "cell_type": "markdown",
   "metadata": {},
   "source": [
    "### calendar_summary exploration"
   ]
  },
  {
   "cell_type": "code",
   "execution_count": 493,
   "metadata": {},
   "outputs": [
    {
     "data": {
      "text/plain": [
       "listing_id          0\n",
       "date                0\n",
       "available           0\n",
       "price         6430639\n",
       "dtype: int64"
      ]
     },
     "execution_count": 493,
     "metadata": {},
     "output_type": "execute_result"
    }
   ],
   "source": [
    "# Check for null values\n",
    "calendar_summary.isnull().sum()"
   ]
  },
  {
   "cell_type": "code",
   "execution_count": 494,
   "metadata": {},
   "outputs": [
    {
     "name": "stdout",
     "output_type": "stream",
     "text": [
      "Null values when available column is 'f': 6430639\n",
      "Null values when available column is not 'f': 0\n"
     ]
    }
   ],
   "source": [
    "print(\n",
    "    \"Null values when available column is 'f': \" + \n",
    "    str(calendar_summary[calendar_summary[\"available\"]==\"f\"].isnull().sum()['price'])\n",
    ")\n",
    "print(\n",
    "    \"Null values when available column is not 'f': \" + \n",
    "    str(calendar_summary[calendar_summary[\"available\"]!=\"f\"].isnull().sum()['price'])\n",
    ")"
   ]
  },
  {
   "cell_type": "markdown",
   "metadata": {},
   "source": [
    "Summary information for datetime"
   ]
  },
  {
   "cell_type": "code",
   "execution_count": 495,
   "metadata": {},
   "outputs": [
    {
     "data": {
      "text/html": [
       "<div>\n",
       "<style scoped>\n",
       "    .dataframe tbody tr th:only-of-type {\n",
       "        vertical-align: middle;\n",
       "    }\n",
       "\n",
       "    .dataframe tbody tr th {\n",
       "        vertical-align: top;\n",
       "    }\n",
       "\n",
       "    .dataframe thead th {\n",
       "        text-align: right;\n",
       "    }\n",
       "</style>\n",
       "<table border=\"1\" class=\"dataframe\">\n",
       "  <thead>\n",
       "    <tr style=\"text-align: right;\">\n",
       "      <th></th>\n",
       "      <th>count</th>\n",
       "      <th>unique</th>\n",
       "      <th>top</th>\n",
       "      <th>freq</th>\n",
       "      <th>first</th>\n",
       "      <th>last</th>\n",
       "    </tr>\n",
       "  </thead>\n",
       "  <tbody>\n",
       "    <tr>\n",
       "      <th>date</th>\n",
       "      <td>8231480</td>\n",
       "      <td>367</td>\n",
       "      <td>2019-02-10</td>\n",
       "      <td>22552</td>\n",
       "      <td>2018-11-07</td>\n",
       "      <td>2019-11-08</td>\n",
       "    </tr>\n",
       "  </tbody>\n",
       "</table>\n",
       "</div>"
      ],
      "text/plain": [
       "        count unique        top   freq      first       last\n",
       "date  8231480    367 2019-02-10  22552 2018-11-07 2019-11-08"
      ]
     },
     "execution_count": 495,
     "metadata": {},
     "output_type": "execute_result"
    }
   ],
   "source": [
    "calendar_summary.describe(include='datetime').T"
   ]
  },
  {
   "cell_type": "markdown",
   "metadata": {},
   "source": [
    "Summary information for object"
   ]
  },
  {
   "cell_type": "code",
   "execution_count": 496,
   "metadata": {},
   "outputs": [
    {
     "data": {
      "text/html": [
       "<div>\n",
       "<style scoped>\n",
       "    .dataframe tbody tr th:only-of-type {\n",
       "        vertical-align: middle;\n",
       "    }\n",
       "\n",
       "    .dataframe tbody tr th {\n",
       "        vertical-align: top;\n",
       "    }\n",
       "\n",
       "    .dataframe thead th {\n",
       "        text-align: right;\n",
       "    }\n",
       "</style>\n",
       "<table border=\"1\" class=\"dataframe\">\n",
       "  <thead>\n",
       "    <tr style=\"text-align: right;\">\n",
       "      <th></th>\n",
       "      <th>count</th>\n",
       "      <th>unique</th>\n",
       "      <th>top</th>\n",
       "      <th>freq</th>\n",
       "    </tr>\n",
       "  </thead>\n",
       "  <tbody>\n",
       "    <tr>\n",
       "      <th>available</th>\n",
       "      <td>8231480</td>\n",
       "      <td>2</td>\n",
       "      <td>f</td>\n",
       "      <td>6430639</td>\n",
       "    </tr>\n",
       "    <tr>\n",
       "      <th>price</th>\n",
       "      <td>1800841</td>\n",
       "      <td>684</td>\n",
       "      <td>$50.00</td>\n",
       "      <td>68088</td>\n",
       "    </tr>\n",
       "  </tbody>\n",
       "</table>\n",
       "</div>"
      ],
      "text/plain": [
       "             count unique     top     freq\n",
       "available  8231480      2       f  6430639\n",
       "price      1800841    684  $50.00    68088"
      ]
     },
     "execution_count": 496,
     "metadata": {},
     "output_type": "execute_result"
    }
   ],
   "source": [
    "calendar_summary.describe(include='object').T"
   ]
  },
  {
   "cell_type": "markdown",
   "metadata": {},
   "source": [
    "Percentage of price column that has missing values"
   ]
  },
  {
   "cell_type": "code",
   "execution_count": 497,
   "metadata": {},
   "outputs": [
    {
     "name": "stdout",
     "output_type": "stream",
     "text": [
      "78.12251259797752\n"
     ]
    }
   ],
   "source": [
    "print(100 * calendar_summary['price'].isnull().sum() /  len(calendar_summary))"
   ]
  },
  {
   "cell_type": "markdown",
   "metadata": {},
   "source": [
    "### listings exploration"
   ]
  },
  {
   "cell_type": "markdown",
   "metadata": {},
   "source": [
    "First I will determine if the summary data contains anything the detailed data doesn't"
   ]
  },
  {
   "cell_type": "code",
   "execution_count": 498,
   "metadata": {},
   "outputs": [
    {
     "data": {
      "text/plain": [
       "{'neighbourhood_group'}"
      ]
     },
     "execution_count": 498,
     "metadata": {},
     "output_type": "execute_result"
    }
   ],
   "source": [
    "set(listings_summary.columns) - set(listings_detailed.columns)"
   ]
  },
  {
   "cell_type": "code",
   "execution_count": 499,
   "metadata": {},
   "outputs": [
    {
     "data": {
      "text/plain": [
       "count                        22552\n",
       "unique                          12\n",
       "top       Friedrichshain-Kreuzberg\n",
       "freq                          5497\n",
       "Name: neighbourhood_group, dtype: object"
      ]
     },
     "execution_count": 499,
     "metadata": {},
     "output_type": "execute_result"
    }
   ],
   "source": [
    "listings_summary['neighbourhood_group'].describe()"
   ]
  },
  {
   "cell_type": "code",
   "execution_count": 500,
   "metadata": {},
   "outputs": [
    {
     "data": {
      "text/plain": [
       "count                        22552\n",
       "unique                          12\n",
       "top       Friedrichshain-Kreuzberg\n",
       "freq                          5497\n",
       "Name: neighbourhood_group_cleansed, dtype: object"
      ]
     },
     "execution_count": 500,
     "metadata": {},
     "output_type": "execute_result"
    }
   ],
   "source": [
    "listings_detailed['neighbourhood_group_cleansed'].describe()"
   ]
  },
  {
   "cell_type": "code",
   "execution_count": 501,
   "metadata": {},
   "outputs": [
    {
     "data": {
      "text/plain": [
       "True"
      ]
     },
     "execution_count": 501,
     "metadata": {},
     "output_type": "execute_result"
    }
   ],
   "source": [
    "all(listings_summary['neighbourhood_group'] == listings_detailed['neighbourhood_group_cleansed'])"
   ]
  },
  {
   "cell_type": "code",
   "execution_count": 502,
   "metadata": {},
   "outputs": [
    {
     "data": {
      "text/plain": [
       "True"
      ]
     },
     "execution_count": 502,
     "metadata": {},
     "output_type": "execute_result"
    }
   ],
   "source": [
    "wanted_columns = set(listings_summary.columns) - {\"neighbourhood_group\"}\n",
    "all(listing_summary[wanted_columns] == listings_detailed[wanted_columns])"
   ]
  },
  {
   "cell_type": "markdown",
   "metadata": {},
   "source": [
    "listings_summary is a less detailed version with duplicate results so we can just use the detailed version"
   ]
  },
  {
   "cell_type": "code",
   "execution_count": 503,
   "metadata": {},
   "outputs": [
    {
     "data": {
      "text/plain": [
       "Index(['id', 'listing_url', 'scrape_id', 'last_scraped', 'name', 'summary',\n",
       "       'space', 'description', 'experiences_offered', 'neighborhood_overview',\n",
       "       'notes', 'transit', 'access', 'interaction', 'house_rules',\n",
       "       'thumbnail_url', 'medium_url', 'picture_url', 'xl_picture_url',\n",
       "       'host_id', 'host_url', 'host_name', 'host_since', 'host_location',\n",
       "       'host_about', 'host_response_time', 'host_response_rate',\n",
       "       'host_acceptance_rate', 'host_is_superhost', 'host_thumbnail_url',\n",
       "       'host_picture_url', 'host_neighbourhood', 'host_listings_count',\n",
       "       'host_total_listings_count', 'host_verifications',\n",
       "       'host_has_profile_pic', 'host_identity_verified', 'street',\n",
       "       'neighbourhood', 'neighbourhood_cleansed',\n",
       "       'neighbourhood_group_cleansed', 'city', 'state', 'zipcode', 'market',\n",
       "       'smart_location', 'country_code', 'country', 'latitude', 'longitude',\n",
       "       'is_location_exact', 'property_type', 'room_type', 'accommodates',\n",
       "       'bathrooms', 'bedrooms', 'beds', 'bed_type', 'amenities', 'square_feet',\n",
       "       'price', 'weekly_price', 'monthly_price', 'security_deposit',\n",
       "       'cleaning_fee', 'guests_included', 'extra_people', 'minimum_nights',\n",
       "       'maximum_nights', 'calendar_updated', 'has_availability',\n",
       "       'availability_30', 'availability_60', 'availability_90',\n",
       "       'availability_365', 'calendar_last_scraped', 'number_of_reviews',\n",
       "       'first_review', 'last_review', 'review_scores_rating',\n",
       "       'review_scores_accuracy', 'review_scores_cleanliness',\n",
       "       'review_scores_checkin', 'review_scores_communication',\n",
       "       'review_scores_location', 'review_scores_value', 'requires_license',\n",
       "       'license', 'jurisdiction_names', 'instant_bookable',\n",
       "       'is_business_travel_ready', 'cancellation_policy',\n",
       "       'require_guest_profile_picture', 'require_guest_phone_verification',\n",
       "       'calculated_host_listings_count', 'reviews_per_month'],\n",
       "      dtype='object')"
      ]
     },
     "execution_count": 503,
     "metadata": {},
     "output_type": "execute_result"
    }
   ],
   "source": [
    "listings_df = listings_detailed\n",
    "listings_df.columns"
   ]
  },
  {
   "cell_type": "markdown",
   "metadata": {},
   "source": [
    "Percentage of missing values in each column with a missing value"
   ]
  },
  {
   "cell_type": "code",
   "execution_count": 504,
   "metadata": {},
   "outputs": [
    {
     "data": {
      "text/plain": [
       "medium_url                     100.000000\n",
       "jurisdiction_names             100.000000\n",
       "thumbnail_url                  100.000000\n",
       "host_acceptance_rate           100.000000\n",
       "xl_picture_url                 100.000000\n",
       "square_feet                     98.022348\n",
       "license                         92.736786\n",
       "monthly_price                   88.209471\n",
       "weekly_price                    83.677723\n",
       "notes                           68.007272\n",
       "host_response_rate              57.178964\n",
       "host_response_time              57.174530\n",
       "interaction                     53.857751\n",
       "access                          51.946612\n",
       "host_about                      50.385775\n",
       "house_rules                     49.232884\n",
       "neighborhood_overview           48.829372\n",
       "transit                         42.195814\n",
       "security_deposit                41.508514\n",
       "space                           37.832565\n",
       "cleaning_fee                    31.686768\n",
       "host_neighbourhood              22.587797\n",
       "review_scores_value             19.665662\n",
       "review_scores_checkin           19.652359\n",
       "review_scores_location          19.647925\n",
       "review_scores_communication     19.590280\n",
       "review_scores_accuracy          19.572543\n",
       "review_scores_cleanliness       19.559241\n",
       "review_scores_rating            19.461689\n",
       "reviews_per_month               17.355445\n",
       "first_review                    17.355445\n",
       "last_review                     17.328840\n",
       "neighbourhood                    5.015076\n",
       "summary                          4.270131\n",
       "zipcode                          2.908833\n",
       "description                      0.900142\n",
       "host_location                    0.514367\n",
       "state                            0.372473\n",
       "market                           0.279354\n",
       "name                             0.261618\n",
       "beds                             0.177368\n",
       "bathrooms                        0.141894\n",
       "host_name                        0.115289\n",
       "host_since                       0.115289\n",
       "host_is_superhost                0.115289\n",
       "host_thumbnail_url               0.115289\n",
       "host_picture_url                 0.115289\n",
       "host_listings_count              0.115289\n",
       "host_total_listings_count        0.115289\n",
       "host_identity_verified           0.115289\n",
       "host_has_profile_pic             0.115289\n",
       "bedrooms                         0.079816\n",
       "city                             0.022171\n",
       "dtype: float64"
      ]
     },
     "execution_count": 504,
     "metadata": {},
     "output_type": "execute_result"
    }
   ],
   "source": [
    "100 * (listings_df.isnull().sum()[(listings_df.isnull().sum() > 0)] / len(listings_df)).sort_values(ascending=False)"
   ]
  },
  {
   "cell_type": "markdown",
   "metadata": {},
   "source": [
    "Summary of the numerical data"
   ]
  },
  {
   "cell_type": "code",
   "execution_count": 505,
   "metadata": {},
   "outputs": [
    {
     "data": {
      "text/html": [
       "<div>\n",
       "<style scoped>\n",
       "    .dataframe tbody tr th:only-of-type {\n",
       "        vertical-align: middle;\n",
       "    }\n",
       "\n",
       "    .dataframe tbody tr th {\n",
       "        vertical-align: top;\n",
       "    }\n",
       "\n",
       "    .dataframe thead th {\n",
       "        text-align: right;\n",
       "    }\n",
       "</style>\n",
       "<table border=\"1\" class=\"dataframe\">\n",
       "  <thead>\n",
       "    <tr style=\"text-align: right;\">\n",
       "      <th></th>\n",
       "      <th>count</th>\n",
       "      <th>mean</th>\n",
       "      <th>std</th>\n",
       "      <th>min</th>\n",
       "      <th>25%</th>\n",
       "      <th>50%</th>\n",
       "      <th>75%</th>\n",
       "      <th>max</th>\n",
       "    </tr>\n",
       "  </thead>\n",
       "  <tbody>\n",
       "    <tr>\n",
       "      <th>id</th>\n",
       "      <td>22552.0</td>\n",
       "      <td>1.571560e+07</td>\n",
       "      <td>8.552069e+06</td>\n",
       "      <td>2.015000e+03</td>\n",
       "      <td>8.065954e+06</td>\n",
       "      <td>1.686638e+07</td>\n",
       "      <td>2.258393e+07</td>\n",
       "      <td>2.986735e+07</td>\n",
       "    </tr>\n",
       "    <tr>\n",
       "      <th>scrape_id</th>\n",
       "      <td>22552.0</td>\n",
       "      <td>2.018111e+13</td>\n",
       "      <td>0.000000e+00</td>\n",
       "      <td>2.018111e+13</td>\n",
       "      <td>2.018111e+13</td>\n",
       "      <td>2.018111e+13</td>\n",
       "      <td>2.018111e+13</td>\n",
       "      <td>2.018111e+13</td>\n",
       "    </tr>\n",
       "    <tr>\n",
       "      <th>thumbnail_url</th>\n",
       "      <td>0.0</td>\n",
       "      <td>NaN</td>\n",
       "      <td>NaN</td>\n",
       "      <td>NaN</td>\n",
       "      <td>NaN</td>\n",
       "      <td>NaN</td>\n",
       "      <td>NaN</td>\n",
       "      <td>NaN</td>\n",
       "    </tr>\n",
       "    <tr>\n",
       "      <th>medium_url</th>\n",
       "      <td>0.0</td>\n",
       "      <td>NaN</td>\n",
       "      <td>NaN</td>\n",
       "      <td>NaN</td>\n",
       "      <td>NaN</td>\n",
       "      <td>NaN</td>\n",
       "      <td>NaN</td>\n",
       "      <td>NaN</td>\n",
       "    </tr>\n",
       "    <tr>\n",
       "      <th>xl_picture_url</th>\n",
       "      <td>0.0</td>\n",
       "      <td>NaN</td>\n",
       "      <td>NaN</td>\n",
       "      <td>NaN</td>\n",
       "      <td>NaN</td>\n",
       "      <td>NaN</td>\n",
       "      <td>NaN</td>\n",
       "      <td>NaN</td>\n",
       "    </tr>\n",
       "    <tr>\n",
       "      <th>host_id</th>\n",
       "      <td>22552.0</td>\n",
       "      <td>5.403355e+07</td>\n",
       "      <td>5.816290e+07</td>\n",
       "      <td>2.217000e+03</td>\n",
       "      <td>9.240002e+06</td>\n",
       "      <td>3.126711e+07</td>\n",
       "      <td>8.067518e+07</td>\n",
       "      <td>2.245081e+08</td>\n",
       "    </tr>\n",
       "    <tr>\n",
       "      <th>host_acceptance_rate</th>\n",
       "      <td>0.0</td>\n",
       "      <td>NaN</td>\n",
       "      <td>NaN</td>\n",
       "      <td>NaN</td>\n",
       "      <td>NaN</td>\n",
       "      <td>NaN</td>\n",
       "      <td>NaN</td>\n",
       "      <td>NaN</td>\n",
       "    </tr>\n",
       "    <tr>\n",
       "      <th>host_listings_count</th>\n",
       "      <td>22526.0</td>\n",
       "      <td>2.330685e+00</td>\n",
       "      <td>1.994782e+01</td>\n",
       "      <td>0.000000e+00</td>\n",
       "      <td>1.000000e+00</td>\n",
       "      <td>1.000000e+00</td>\n",
       "      <td>2.000000e+00</td>\n",
       "      <td>1.676000e+03</td>\n",
       "    </tr>\n",
       "    <tr>\n",
       "      <th>host_total_listings_count</th>\n",
       "      <td>22526.0</td>\n",
       "      <td>2.330685e+00</td>\n",
       "      <td>1.994782e+01</td>\n",
       "      <td>0.000000e+00</td>\n",
       "      <td>1.000000e+00</td>\n",
       "      <td>1.000000e+00</td>\n",
       "      <td>2.000000e+00</td>\n",
       "      <td>1.676000e+03</td>\n",
       "    </tr>\n",
       "    <tr>\n",
       "      <th>latitude</th>\n",
       "      <td>22552.0</td>\n",
       "      <td>5.250982e+01</td>\n",
       "      <td>3.082546e-02</td>\n",
       "      <td>5.234580e+01</td>\n",
       "      <td>5.248906e+01</td>\n",
       "      <td>5.250908e+01</td>\n",
       "      <td>5.253267e+01</td>\n",
       "      <td>5.265167e+01</td>\n",
       "    </tr>\n",
       "    <tr>\n",
       "      <th>longitude</th>\n",
       "      <td>22552.0</td>\n",
       "      <td>1.340611e+01</td>\n",
       "      <td>5.796365e-02</td>\n",
       "      <td>1.310356e+01</td>\n",
       "      <td>1.337541e+01</td>\n",
       "      <td>1.341678e+01</td>\n",
       "      <td>1.343926e+01</td>\n",
       "      <td>1.375764e+01</td>\n",
       "    </tr>\n",
       "    <tr>\n",
       "      <th>accommodates</th>\n",
       "      <td>22552.0</td>\n",
       "      <td>2.637460e+00</td>\n",
       "      <td>1.510548e+00</td>\n",
       "      <td>1.000000e+00</td>\n",
       "      <td>2.000000e+00</td>\n",
       "      <td>2.000000e+00</td>\n",
       "      <td>3.000000e+00</td>\n",
       "      <td>1.600000e+01</td>\n",
       "    </tr>\n",
       "    <tr>\n",
       "      <th>bathrooms</th>\n",
       "      <td>22520.0</td>\n",
       "      <td>1.092695e+00</td>\n",
       "      <td>3.298943e-01</td>\n",
       "      <td>0.000000e+00</td>\n",
       "      <td>1.000000e+00</td>\n",
       "      <td>1.000000e+00</td>\n",
       "      <td>1.000000e+00</td>\n",
       "      <td>8.500000e+00</td>\n",
       "    </tr>\n",
       "    <tr>\n",
       "      <th>bedrooms</th>\n",
       "      <td>22534.0</td>\n",
       "      <td>1.161134e+00</td>\n",
       "      <td>6.461559e-01</td>\n",
       "      <td>0.000000e+00</td>\n",
       "      <td>1.000000e+00</td>\n",
       "      <td>1.000000e+00</td>\n",
       "      <td>1.000000e+00</td>\n",
       "      <td>1.200000e+01</td>\n",
       "    </tr>\n",
       "    <tr>\n",
       "      <th>beds</th>\n",
       "      <td>22512.0</td>\n",
       "      <td>1.620558e+00</td>\n",
       "      <td>1.174840e+00</td>\n",
       "      <td>0.000000e+00</td>\n",
       "      <td>1.000000e+00</td>\n",
       "      <td>1.000000e+00</td>\n",
       "      <td>2.000000e+00</td>\n",
       "      <td>2.200000e+01</td>\n",
       "    </tr>\n",
       "    <tr>\n",
       "      <th>square_feet</th>\n",
       "      <td>446.0</td>\n",
       "      <td>4.654013e+02</td>\n",
       "      <td>5.034919e+02</td>\n",
       "      <td>0.000000e+00</td>\n",
       "      <td>0.000000e+00</td>\n",
       "      <td>4.035000e+02</td>\n",
       "      <td>7.075000e+02</td>\n",
       "      <td>4.639000e+03</td>\n",
       "    </tr>\n",
       "    <tr>\n",
       "      <th>guests_included</th>\n",
       "      <td>22552.0</td>\n",
       "      <td>1.332121e+00</td>\n",
       "      <td>8.350343e-01</td>\n",
       "      <td>1.000000e+00</td>\n",
       "      <td>1.000000e+00</td>\n",
       "      <td>1.000000e+00</td>\n",
       "      <td>1.000000e+00</td>\n",
       "      <td>1.600000e+01</td>\n",
       "    </tr>\n",
       "    <tr>\n",
       "      <th>minimum_nights</th>\n",
       "      <td>22552.0</td>\n",
       "      <td>7.157059e+00</td>\n",
       "      <td>4.066507e+01</td>\n",
       "      <td>1.000000e+00</td>\n",
       "      <td>2.000000e+00</td>\n",
       "      <td>2.000000e+00</td>\n",
       "      <td>4.000000e+00</td>\n",
       "      <td>5.000000e+03</td>\n",
       "    </tr>\n",
       "    <tr>\n",
       "      <th>maximum_nights</th>\n",
       "      <td>22552.0</td>\n",
       "      <td>1.030505e+05</td>\n",
       "      <td>9.640519e+06</td>\n",
       "      <td>1.000000e+00</td>\n",
       "      <td>2.000000e+01</td>\n",
       "      <td>1.124000e+03</td>\n",
       "      <td>1.125000e+03</td>\n",
       "      <td>1.000000e+09</td>\n",
       "    </tr>\n",
       "    <tr>\n",
       "      <th>availability_30</th>\n",
       "      <td>22552.0</td>\n",
       "      <td>4.944173e+00</td>\n",
       "      <td>8.677395e+00</td>\n",
       "      <td>0.000000e+00</td>\n",
       "      <td>0.000000e+00</td>\n",
       "      <td>0.000000e+00</td>\n",
       "      <td>6.000000e+00</td>\n",
       "      <td>3.000000e+01</td>\n",
       "    </tr>\n",
       "    <tr>\n",
       "      <th>availability_60</th>\n",
       "      <td>22552.0</td>\n",
       "      <td>1.114664e+01</td>\n",
       "      <td>1.752237e+01</td>\n",
       "      <td>0.000000e+00</td>\n",
       "      <td>0.000000e+00</td>\n",
       "      <td>0.000000e+00</td>\n",
       "      <td>1.800000e+01</td>\n",
       "      <td>6.000000e+01</td>\n",
       "    </tr>\n",
       "    <tr>\n",
       "      <th>availability_90</th>\n",
       "      <td>22552.0</td>\n",
       "      <td>2.001610e+01</td>\n",
       "      <td>2.834914e+01</td>\n",
       "      <td>0.000000e+00</td>\n",
       "      <td>0.000000e+00</td>\n",
       "      <td>0.000000e+00</td>\n",
       "      <td>3.600000e+01</td>\n",
       "      <td>9.000000e+01</td>\n",
       "    </tr>\n",
       "    <tr>\n",
       "      <th>availability_365</th>\n",
       "      <td>22552.0</td>\n",
       "      <td>7.985283e+01</td>\n",
       "      <td>1.193682e+02</td>\n",
       "      <td>0.000000e+00</td>\n",
       "      <td>0.000000e+00</td>\n",
       "      <td>4.000000e+00</td>\n",
       "      <td>1.290000e+02</td>\n",
       "      <td>3.650000e+02</td>\n",
       "    </tr>\n",
       "    <tr>\n",
       "      <th>number_of_reviews</th>\n",
       "      <td>22552.0</td>\n",
       "      <td>1.784068e+01</td>\n",
       "      <td>3.676962e+01</td>\n",
       "      <td>0.000000e+00</td>\n",
       "      <td>1.000000e+00</td>\n",
       "      <td>5.000000e+00</td>\n",
       "      <td>1.600000e+01</td>\n",
       "      <td>4.980000e+02</td>\n",
       "    </tr>\n",
       "    <tr>\n",
       "      <th>review_scores_rating</th>\n",
       "      <td>18163.0</td>\n",
       "      <td>9.441386e+01</td>\n",
       "      <td>7.639644e+00</td>\n",
       "      <td>2.000000e+01</td>\n",
       "      <td>9.200000e+01</td>\n",
       "      <td>9.700000e+01</td>\n",
       "      <td>1.000000e+02</td>\n",
       "      <td>1.000000e+02</td>\n",
       "    </tr>\n",
       "    <tr>\n",
       "      <th>review_scores_accuracy</th>\n",
       "      <td>18138.0</td>\n",
       "      <td>9.663965e+00</td>\n",
       "      <td>7.400390e-01</td>\n",
       "      <td>2.000000e+00</td>\n",
       "      <td>1.000000e+01</td>\n",
       "      <td>1.000000e+01</td>\n",
       "      <td>1.000000e+01</td>\n",
       "      <td>1.000000e+01</td>\n",
       "    </tr>\n",
       "    <tr>\n",
       "      <th>review_scores_cleanliness</th>\n",
       "      <td>18141.0</td>\n",
       "      <td>9.324955e+00</td>\n",
       "      <td>1.031996e+00</td>\n",
       "      <td>2.000000e+00</td>\n",
       "      <td>9.000000e+00</td>\n",
       "      <td>1.000000e+01</td>\n",
       "      <td>1.000000e+01</td>\n",
       "      <td>1.000000e+01</td>\n",
       "    </tr>\n",
       "    <tr>\n",
       "      <th>review_scores_checkin</th>\n",
       "      <td>18120.0</td>\n",
       "      <td>9.713521e+00</td>\n",
       "      <td>7.046199e-01</td>\n",
       "      <td>2.000000e+00</td>\n",
       "      <td>1.000000e+01</td>\n",
       "      <td>1.000000e+01</td>\n",
       "      <td>1.000000e+01</td>\n",
       "      <td>1.000000e+01</td>\n",
       "    </tr>\n",
       "    <tr>\n",
       "      <th>review_scores_communication</th>\n",
       "      <td>18134.0</td>\n",
       "      <td>9.730672e+00</td>\n",
       "      <td>6.866140e-01</td>\n",
       "      <td>2.000000e+00</td>\n",
       "      <td>1.000000e+01</td>\n",
       "      <td>1.000000e+01</td>\n",
       "      <td>1.000000e+01</td>\n",
       "      <td>1.000000e+01</td>\n",
       "    </tr>\n",
       "    <tr>\n",
       "      <th>review_scores_location</th>\n",
       "      <td>18121.0</td>\n",
       "      <td>9.505491e+00</td>\n",
       "      <td>7.621606e-01</td>\n",
       "      <td>2.000000e+00</td>\n",
       "      <td>9.000000e+00</td>\n",
       "      <td>1.000000e+01</td>\n",
       "      <td>1.000000e+01</td>\n",
       "      <td>1.000000e+01</td>\n",
       "    </tr>\n",
       "    <tr>\n",
       "      <th>review_scores_value</th>\n",
       "      <td>18117.0</td>\n",
       "      <td>9.411106e+00</td>\n",
       "      <td>8.414916e-01</td>\n",
       "      <td>2.000000e+00</td>\n",
       "      <td>9.000000e+00</td>\n",
       "      <td>1.000000e+01</td>\n",
       "      <td>1.000000e+01</td>\n",
       "      <td>1.000000e+01</td>\n",
       "    </tr>\n",
       "    <tr>\n",
       "      <th>jurisdiction_names</th>\n",
       "      <td>0.0</td>\n",
       "      <td>NaN</td>\n",
       "      <td>NaN</td>\n",
       "      <td>NaN</td>\n",
       "      <td>NaN</td>\n",
       "      <td>NaN</td>\n",
       "      <td>NaN</td>\n",
       "      <td>NaN</td>\n",
       "    </tr>\n",
       "    <tr>\n",
       "      <th>calculated_host_listings_count</th>\n",
       "      <td>22552.0</td>\n",
       "      <td>1.918233e+00</td>\n",
       "      <td>3.667257e+00</td>\n",
       "      <td>1.000000e+00</td>\n",
       "      <td>1.000000e+00</td>\n",
       "      <td>1.000000e+00</td>\n",
       "      <td>1.000000e+00</td>\n",
       "      <td>4.500000e+01</td>\n",
       "    </tr>\n",
       "    <tr>\n",
       "      <th>reviews_per_month</th>\n",
       "      <td>18638.0</td>\n",
       "      <td>1.135525e+00</td>\n",
       "      <td>1.507082e+00</td>\n",
       "      <td>1.000000e-02</td>\n",
       "      <td>1.800000e-01</td>\n",
       "      <td>5.400000e-01</td>\n",
       "      <td>1.500000e+00</td>\n",
       "      <td>3.667000e+01</td>\n",
       "    </tr>\n",
       "  </tbody>\n",
       "</table>\n",
       "</div>"
      ],
      "text/plain": [
       "                                  count          mean           std  \\\n",
       "id                              22552.0  1.571560e+07  8.552069e+06   \n",
       "scrape_id                       22552.0  2.018111e+13  0.000000e+00   \n",
       "thumbnail_url                       0.0           NaN           NaN   \n",
       "medium_url                          0.0           NaN           NaN   \n",
       "xl_picture_url                      0.0           NaN           NaN   \n",
       "host_id                         22552.0  5.403355e+07  5.816290e+07   \n",
       "host_acceptance_rate                0.0           NaN           NaN   \n",
       "host_listings_count             22526.0  2.330685e+00  1.994782e+01   \n",
       "host_total_listings_count       22526.0  2.330685e+00  1.994782e+01   \n",
       "latitude                        22552.0  5.250982e+01  3.082546e-02   \n",
       "longitude                       22552.0  1.340611e+01  5.796365e-02   \n",
       "accommodates                    22552.0  2.637460e+00  1.510548e+00   \n",
       "bathrooms                       22520.0  1.092695e+00  3.298943e-01   \n",
       "bedrooms                        22534.0  1.161134e+00  6.461559e-01   \n",
       "beds                            22512.0  1.620558e+00  1.174840e+00   \n",
       "square_feet                       446.0  4.654013e+02  5.034919e+02   \n",
       "guests_included                 22552.0  1.332121e+00  8.350343e-01   \n",
       "minimum_nights                  22552.0  7.157059e+00  4.066507e+01   \n",
       "maximum_nights                  22552.0  1.030505e+05  9.640519e+06   \n",
       "availability_30                 22552.0  4.944173e+00  8.677395e+00   \n",
       "availability_60                 22552.0  1.114664e+01  1.752237e+01   \n",
       "availability_90                 22552.0  2.001610e+01  2.834914e+01   \n",
       "availability_365                22552.0  7.985283e+01  1.193682e+02   \n",
       "number_of_reviews               22552.0  1.784068e+01  3.676962e+01   \n",
       "review_scores_rating            18163.0  9.441386e+01  7.639644e+00   \n",
       "review_scores_accuracy          18138.0  9.663965e+00  7.400390e-01   \n",
       "review_scores_cleanliness       18141.0  9.324955e+00  1.031996e+00   \n",
       "review_scores_checkin           18120.0  9.713521e+00  7.046199e-01   \n",
       "review_scores_communication     18134.0  9.730672e+00  6.866140e-01   \n",
       "review_scores_location          18121.0  9.505491e+00  7.621606e-01   \n",
       "review_scores_value             18117.0  9.411106e+00  8.414916e-01   \n",
       "jurisdiction_names                  0.0           NaN           NaN   \n",
       "calculated_host_listings_count  22552.0  1.918233e+00  3.667257e+00   \n",
       "reviews_per_month               18638.0  1.135525e+00  1.507082e+00   \n",
       "\n",
       "                                         min           25%           50%  \\\n",
       "id                              2.015000e+03  8.065954e+06  1.686638e+07   \n",
       "scrape_id                       2.018111e+13  2.018111e+13  2.018111e+13   \n",
       "thumbnail_url                            NaN           NaN           NaN   \n",
       "medium_url                               NaN           NaN           NaN   \n",
       "xl_picture_url                           NaN           NaN           NaN   \n",
       "host_id                         2.217000e+03  9.240002e+06  3.126711e+07   \n",
       "host_acceptance_rate                     NaN           NaN           NaN   \n",
       "host_listings_count             0.000000e+00  1.000000e+00  1.000000e+00   \n",
       "host_total_listings_count       0.000000e+00  1.000000e+00  1.000000e+00   \n",
       "latitude                        5.234580e+01  5.248906e+01  5.250908e+01   \n",
       "longitude                       1.310356e+01  1.337541e+01  1.341678e+01   \n",
       "accommodates                    1.000000e+00  2.000000e+00  2.000000e+00   \n",
       "bathrooms                       0.000000e+00  1.000000e+00  1.000000e+00   \n",
       "bedrooms                        0.000000e+00  1.000000e+00  1.000000e+00   \n",
       "beds                            0.000000e+00  1.000000e+00  1.000000e+00   \n",
       "square_feet                     0.000000e+00  0.000000e+00  4.035000e+02   \n",
       "guests_included                 1.000000e+00  1.000000e+00  1.000000e+00   \n",
       "minimum_nights                  1.000000e+00  2.000000e+00  2.000000e+00   \n",
       "maximum_nights                  1.000000e+00  2.000000e+01  1.124000e+03   \n",
       "availability_30                 0.000000e+00  0.000000e+00  0.000000e+00   \n",
       "availability_60                 0.000000e+00  0.000000e+00  0.000000e+00   \n",
       "availability_90                 0.000000e+00  0.000000e+00  0.000000e+00   \n",
       "availability_365                0.000000e+00  0.000000e+00  4.000000e+00   \n",
       "number_of_reviews               0.000000e+00  1.000000e+00  5.000000e+00   \n",
       "review_scores_rating            2.000000e+01  9.200000e+01  9.700000e+01   \n",
       "review_scores_accuracy          2.000000e+00  1.000000e+01  1.000000e+01   \n",
       "review_scores_cleanliness       2.000000e+00  9.000000e+00  1.000000e+01   \n",
       "review_scores_checkin           2.000000e+00  1.000000e+01  1.000000e+01   \n",
       "review_scores_communication     2.000000e+00  1.000000e+01  1.000000e+01   \n",
       "review_scores_location          2.000000e+00  9.000000e+00  1.000000e+01   \n",
       "review_scores_value             2.000000e+00  9.000000e+00  1.000000e+01   \n",
       "jurisdiction_names                       NaN           NaN           NaN   \n",
       "calculated_host_listings_count  1.000000e+00  1.000000e+00  1.000000e+00   \n",
       "reviews_per_month               1.000000e-02  1.800000e-01  5.400000e-01   \n",
       "\n",
       "                                         75%           max  \n",
       "id                              2.258393e+07  2.986735e+07  \n",
       "scrape_id                       2.018111e+13  2.018111e+13  \n",
       "thumbnail_url                            NaN           NaN  \n",
       "medium_url                               NaN           NaN  \n",
       "xl_picture_url                           NaN           NaN  \n",
       "host_id                         8.067518e+07  2.245081e+08  \n",
       "host_acceptance_rate                     NaN           NaN  \n",
       "host_listings_count             2.000000e+00  1.676000e+03  \n",
       "host_total_listings_count       2.000000e+00  1.676000e+03  \n",
       "latitude                        5.253267e+01  5.265167e+01  \n",
       "longitude                       1.343926e+01  1.375764e+01  \n",
       "accommodates                    3.000000e+00  1.600000e+01  \n",
       "bathrooms                       1.000000e+00  8.500000e+00  \n",
       "bedrooms                        1.000000e+00  1.200000e+01  \n",
       "beds                            2.000000e+00  2.200000e+01  \n",
       "square_feet                     7.075000e+02  4.639000e+03  \n",
       "guests_included                 1.000000e+00  1.600000e+01  \n",
       "minimum_nights                  4.000000e+00  5.000000e+03  \n",
       "maximum_nights                  1.125000e+03  1.000000e+09  \n",
       "availability_30                 6.000000e+00  3.000000e+01  \n",
       "availability_60                 1.800000e+01  6.000000e+01  \n",
       "availability_90                 3.600000e+01  9.000000e+01  \n",
       "availability_365                1.290000e+02  3.650000e+02  \n",
       "number_of_reviews               1.600000e+01  4.980000e+02  \n",
       "review_scores_rating            1.000000e+02  1.000000e+02  \n",
       "review_scores_accuracy          1.000000e+01  1.000000e+01  \n",
       "review_scores_cleanliness       1.000000e+01  1.000000e+01  \n",
       "review_scores_checkin           1.000000e+01  1.000000e+01  \n",
       "review_scores_communication     1.000000e+01  1.000000e+01  \n",
       "review_scores_location          1.000000e+01  1.000000e+01  \n",
       "review_scores_value             1.000000e+01  1.000000e+01  \n",
       "jurisdiction_names                       NaN           NaN  \n",
       "calculated_host_listings_count  1.000000e+00  4.500000e+01  \n",
       "reviews_per_month               1.500000e+00  3.667000e+01  "
      ]
     },
     "execution_count": 505,
     "metadata": {},
     "output_type": "execute_result"
    }
   ],
   "source": [
    "listings_df.describe().T"
   ]
  },
  {
   "cell_type": "markdown",
   "metadata": {},
   "source": [
    "Summary of the object data"
   ]
  },
  {
   "cell_type": "code",
   "execution_count": 506,
   "metadata": {},
   "outputs": [
    {
     "data": {
      "text/html": [
       "<div>\n",
       "<style scoped>\n",
       "    .dataframe tbody tr th:only-of-type {\n",
       "        vertical-align: middle;\n",
       "    }\n",
       "\n",
       "    .dataframe tbody tr th {\n",
       "        vertical-align: top;\n",
       "    }\n",
       "\n",
       "    .dataframe thead th {\n",
       "        text-align: right;\n",
       "    }\n",
       "</style>\n",
       "<table border=\"1\" class=\"dataframe\">\n",
       "  <thead>\n",
       "    <tr style=\"text-align: right;\">\n",
       "      <th></th>\n",
       "      <th>count</th>\n",
       "      <th>unique</th>\n",
       "      <th>top</th>\n",
       "      <th>freq</th>\n",
       "    </tr>\n",
       "  </thead>\n",
       "  <tbody>\n",
       "    <tr>\n",
       "      <th>listing_url</th>\n",
       "      <td>22552</td>\n",
       "      <td>22552</td>\n",
       "      <td>https://www.airbnb.com/rooms/9732185</td>\n",
       "      <td>1</td>\n",
       "    </tr>\n",
       "    <tr>\n",
       "      <th>name</th>\n",
       "      <td>22493</td>\n",
       "      <td>21873</td>\n",
       "      <td>Berlin Wohnung</td>\n",
       "      <td>14</td>\n",
       "    </tr>\n",
       "    <tr>\n",
       "      <th>summary</th>\n",
       "      <td>21589</td>\n",
       "      <td>21041</td>\n",
       "      <td>with en-suite bathroom, TV, WIFI, bed linen, a...</td>\n",
       "      <td>14</td>\n",
       "    </tr>\n",
       "    <tr>\n",
       "      <th>space</th>\n",
       "      <td>14020</td>\n",
       "      <td>13598</td>\n",
       "      <td>The Singer 109 Hostel is located in the heart ...</td>\n",
       "      <td>41</td>\n",
       "    </tr>\n",
       "    <tr>\n",
       "      <th>description</th>\n",
       "      <td>22349</td>\n",
       "      <td>21997</td>\n",
       "      <td>We are located in one of the most colorful dis...</td>\n",
       "      <td>12</td>\n",
       "    </tr>\n",
       "    <tr>\n",
       "      <th>experiences_offered</th>\n",
       "      <td>22552</td>\n",
       "      <td>1</td>\n",
       "      <td>none</td>\n",
       "      <td>22552</td>\n",
       "    </tr>\n",
       "    <tr>\n",
       "      <th>neighborhood_overview</th>\n",
       "      <td>11540</td>\n",
       "      <td>10781</td>\n",
       "      <td>Welcome Traveler. The Singer Hostel and  Apart...</td>\n",
       "      <td>43</td>\n",
       "    </tr>\n",
       "    <tr>\n",
       "      <th>notes</th>\n",
       "      <td>7215</td>\n",
       "      <td>6687</td>\n",
       "      <td>Since 01.01.2014 the city of Berlin had to ado...</td>\n",
       "      <td>37</td>\n",
       "    </tr>\n",
       "    <tr>\n",
       "      <th>transit</th>\n",
       "      <td>13036</td>\n",
       "      <td>12308</td>\n",
       "      <td>U-Bahn / Underground /Subway / Metro: U5 (Stra...</td>\n",
       "      <td>26</td>\n",
       "    </tr>\n",
       "    <tr>\n",
       "      <th>access</th>\n",
       "      <td>10837</td>\n",
       "      <td>9946</td>\n",
       "      <td>We can offer our guests - Pool table/Snooker -...</td>\n",
       "      <td>42</td>\n",
       "    </tr>\n",
       "    <tr>\n",
       "      <th>interaction</th>\n",
       "      <td>10406</td>\n",
       "      <td>9584</td>\n",
       "      <td>There is always at least 1 member of staff on ...</td>\n",
       "      <td>43</td>\n",
       "    </tr>\n",
       "    <tr>\n",
       "      <th>house_rules</th>\n",
       "      <td>11449</td>\n",
       "      <td>10350</td>\n",
       "      <td>- Most importantly, please have a respectful a...</td>\n",
       "      <td>30</td>\n",
       "    </tr>\n",
       "    <tr>\n",
       "      <th>picture_url</th>\n",
       "      <td>22552</td>\n",
       "      <td>22465</td>\n",
       "      <td>https://a0.muscache.com/im/pictures/e62cc6e1-c...</td>\n",
       "      <td>3</td>\n",
       "    </tr>\n",
       "    <tr>\n",
       "      <th>host_url</th>\n",
       "      <td>22552</td>\n",
       "      <td>19180</td>\n",
       "      <td>https://www.airbnb.com/users/show/1625771</td>\n",
       "      <td>45</td>\n",
       "    </tr>\n",
       "    <tr>\n",
       "      <th>host_name</th>\n",
       "      <td>22526</td>\n",
       "      <td>5997</td>\n",
       "      <td>Anna</td>\n",
       "      <td>216</td>\n",
       "    </tr>\n",
       "    <tr>\n",
       "      <th>host_location</th>\n",
       "      <td>22436</td>\n",
       "      <td>1036</td>\n",
       "      <td>Berlin, Berlin, Germany</td>\n",
       "      <td>17188</td>\n",
       "    </tr>\n",
       "    <tr>\n",
       "      <th>host_about</th>\n",
       "      <td>11189</td>\n",
       "      <td>8879</td>\n",
       "      <td>.</td>\n",
       "      <td>71</td>\n",
       "    </tr>\n",
       "    <tr>\n",
       "      <th>host_response_time</th>\n",
       "      <td>9658</td>\n",
       "      <td>4</td>\n",
       "      <td>within an hour</td>\n",
       "      <td>5081</td>\n",
       "    </tr>\n",
       "    <tr>\n",
       "      <th>host_response_rate</th>\n",
       "      <td>9657</td>\n",
       "      <td>64</td>\n",
       "      <td>100%</td>\n",
       "      <td>7127</td>\n",
       "    </tr>\n",
       "    <tr>\n",
       "      <th>host_is_superhost</th>\n",
       "      <td>22526</td>\n",
       "      <td>2</td>\n",
       "      <td>f</td>\n",
       "      <td>19515</td>\n",
       "    </tr>\n",
       "    <tr>\n",
       "      <th>host_thumbnail_url</th>\n",
       "      <td>22526</td>\n",
       "      <td>19100</td>\n",
       "      <td>https://a0.muscache.com/defaults/user_pic-50x5...</td>\n",
       "      <td>56</td>\n",
       "    </tr>\n",
       "    <tr>\n",
       "      <th>host_picture_url</th>\n",
       "      <td>22526</td>\n",
       "      <td>19100</td>\n",
       "      <td>https://a0.muscache.com/defaults/user_pic-225x...</td>\n",
       "      <td>56</td>\n",
       "    </tr>\n",
       "    <tr>\n",
       "      <th>host_neighbourhood</th>\n",
       "      <td>17458</td>\n",
       "      <td>181</td>\n",
       "      <td>Neukölln</td>\n",
       "      <td>2556</td>\n",
       "    </tr>\n",
       "    <tr>\n",
       "      <th>host_verifications</th>\n",
       "      <td>22552</td>\n",
       "      <td>301</td>\n",
       "      <td>['email', 'phone', 'reviews']</td>\n",
       "      <td>4103</td>\n",
       "    </tr>\n",
       "    <tr>\n",
       "      <th>host_has_profile_pic</th>\n",
       "      <td>22526</td>\n",
       "      <td>2</td>\n",
       "      <td>t</td>\n",
       "      <td>22470</td>\n",
       "    </tr>\n",
       "    <tr>\n",
       "      <th>host_identity_verified</th>\n",
       "      <td>22526</td>\n",
       "      <td>2</td>\n",
       "      <td>f</td>\n",
       "      <td>13824</td>\n",
       "    </tr>\n",
       "    <tr>\n",
       "      <th>street</th>\n",
       "      <td>22552</td>\n",
       "      <td>86</td>\n",
       "      <td>Berlin, Berlin, Germany</td>\n",
       "      <td>22317</td>\n",
       "    </tr>\n",
       "    <tr>\n",
       "      <th>neighbourhood</th>\n",
       "      <td>21421</td>\n",
       "      <td>91</td>\n",
       "      <td>Neukölln</td>\n",
       "      <td>3209</td>\n",
       "    </tr>\n",
       "    <tr>\n",
       "      <th>neighbourhood_cleansed</th>\n",
       "      <td>22552</td>\n",
       "      <td>136</td>\n",
       "      <td>Tempelhofer Vorstadt</td>\n",
       "      <td>1325</td>\n",
       "    </tr>\n",
       "    <tr>\n",
       "      <th>neighbourhood_group_cleansed</th>\n",
       "      <td>22552</td>\n",
       "      <td>12</td>\n",
       "      <td>Friedrichshain-Kreuzberg</td>\n",
       "      <td>5497</td>\n",
       "    </tr>\n",
       "    <tr>\n",
       "      <th>city</th>\n",
       "      <td>22547</td>\n",
       "      <td>60</td>\n",
       "      <td>Berlin</td>\n",
       "      <td>22417</td>\n",
       "    </tr>\n",
       "    <tr>\n",
       "      <th>state</th>\n",
       "      <td>22468</td>\n",
       "      <td>19</td>\n",
       "      <td>Berlin</td>\n",
       "      <td>22417</td>\n",
       "    </tr>\n",
       "    <tr>\n",
       "      <th>zipcode</th>\n",
       "      <td>21896</td>\n",
       "      <td>215</td>\n",
       "      <td>10245</td>\n",
       "      <td>855</td>\n",
       "    </tr>\n",
       "    <tr>\n",
       "      <th>market</th>\n",
       "      <td>22489</td>\n",
       "      <td>6</td>\n",
       "      <td>Berlin</td>\n",
       "      <td>22483</td>\n",
       "    </tr>\n",
       "    <tr>\n",
       "      <th>smart_location</th>\n",
       "      <td>22552</td>\n",
       "      <td>61</td>\n",
       "      <td>Berlin, Germany</td>\n",
       "      <td>22419</td>\n",
       "    </tr>\n",
       "    <tr>\n",
       "      <th>country_code</th>\n",
       "      <td>22552</td>\n",
       "      <td>1</td>\n",
       "      <td>DE</td>\n",
       "      <td>22552</td>\n",
       "    </tr>\n",
       "    <tr>\n",
       "      <th>country</th>\n",
       "      <td>22552</td>\n",
       "      <td>1</td>\n",
       "      <td>Germany</td>\n",
       "      <td>22552</td>\n",
       "    </tr>\n",
       "    <tr>\n",
       "      <th>is_location_exact</th>\n",
       "      <td>22552</td>\n",
       "      <td>2</td>\n",
       "      <td>t</td>\n",
       "      <td>16776</td>\n",
       "    </tr>\n",
       "    <tr>\n",
       "      <th>property_type</th>\n",
       "      <td>22552</td>\n",
       "      <td>33</td>\n",
       "      <td>Apartment</td>\n",
       "      <td>20225</td>\n",
       "    </tr>\n",
       "    <tr>\n",
       "      <th>room_type</th>\n",
       "      <td>22552</td>\n",
       "      <td>3</td>\n",
       "      <td>Private room</td>\n",
       "      <td>11534</td>\n",
       "    </tr>\n",
       "    <tr>\n",
       "      <th>bed_type</th>\n",
       "      <td>22552</td>\n",
       "      <td>5</td>\n",
       "      <td>Real Bed</td>\n",
       "      <td>21766</td>\n",
       "    </tr>\n",
       "    <tr>\n",
       "      <th>amenities</th>\n",
       "      <td>22552</td>\n",
       "      <td>19985</td>\n",
       "      <td>{}</td>\n",
       "      <td>75</td>\n",
       "    </tr>\n",
       "    <tr>\n",
       "      <th>price</th>\n",
       "      <td>22552</td>\n",
       "      <td>295</td>\n",
       "      <td>$30.00</td>\n",
       "      <td>1387</td>\n",
       "    </tr>\n",
       "    <tr>\n",
       "      <th>weekly_price</th>\n",
       "      <td>3681</td>\n",
       "      <td>387</td>\n",
       "      <td>$300.00</td>\n",
       "      <td>232</td>\n",
       "    </tr>\n",
       "    <tr>\n",
       "      <th>monthly_price</th>\n",
       "      <td>2659</td>\n",
       "      <td>426</td>\n",
       "      <td>$1,200.00</td>\n",
       "      <td>143</td>\n",
       "    </tr>\n",
       "    <tr>\n",
       "      <th>security_deposit</th>\n",
       "      <td>13191</td>\n",
       "      <td>142</td>\n",
       "      <td>$0.00</td>\n",
       "      <td>5319</td>\n",
       "    </tr>\n",
       "    <tr>\n",
       "      <th>cleaning_fee</th>\n",
       "      <td>15406</td>\n",
       "      <td>112</td>\n",
       "      <td>$0.00</td>\n",
       "      <td>1865</td>\n",
       "    </tr>\n",
       "    <tr>\n",
       "      <th>extra_people</th>\n",
       "      <td>22552</td>\n",
       "      <td>65</td>\n",
       "      <td>$0.00</td>\n",
       "      <td>10863</td>\n",
       "    </tr>\n",
       "    <tr>\n",
       "      <th>calendar_updated</th>\n",
       "      <td>22552</td>\n",
       "      <td>75</td>\n",
       "      <td>today</td>\n",
       "      <td>2517</td>\n",
       "    </tr>\n",
       "    <tr>\n",
       "      <th>has_availability</th>\n",
       "      <td>22552</td>\n",
       "      <td>1</td>\n",
       "      <td>t</td>\n",
       "      <td>22552</td>\n",
       "    </tr>\n",
       "    <tr>\n",
       "      <th>requires_license</th>\n",
       "      <td>22552</td>\n",
       "      <td>2</td>\n",
       "      <td>t</td>\n",
       "      <td>22544</td>\n",
       "    </tr>\n",
       "    <tr>\n",
       "      <th>license</th>\n",
       "      <td>1638</td>\n",
       "      <td>1387</td>\n",
       "      <td>HRB155306B</td>\n",
       "      <td>35</td>\n",
       "    </tr>\n",
       "    <tr>\n",
       "      <th>instant_bookable</th>\n",
       "      <td>22552</td>\n",
       "      <td>2</td>\n",
       "      <td>f</td>\n",
       "      <td>15518</td>\n",
       "    </tr>\n",
       "    <tr>\n",
       "      <th>is_business_travel_ready</th>\n",
       "      <td>22552</td>\n",
       "      <td>1</td>\n",
       "      <td>f</td>\n",
       "      <td>22552</td>\n",
       "    </tr>\n",
       "    <tr>\n",
       "      <th>cancellation_policy</th>\n",
       "      <td>22552</td>\n",
       "      <td>5</td>\n",
       "      <td>flexible</td>\n",
       "      <td>9102</td>\n",
       "    </tr>\n",
       "    <tr>\n",
       "      <th>require_guest_profile_picture</th>\n",
       "      <td>22552</td>\n",
       "      <td>2</td>\n",
       "      <td>f</td>\n",
       "      <td>22396</td>\n",
       "    </tr>\n",
       "    <tr>\n",
       "      <th>require_guest_phone_verification</th>\n",
       "      <td>22552</td>\n",
       "      <td>2</td>\n",
       "      <td>f</td>\n",
       "      <td>22273</td>\n",
       "    </tr>\n",
       "  </tbody>\n",
       "</table>\n",
       "</div>"
      ],
      "text/plain": [
       "                                  count unique  \\\n",
       "listing_url                       22552  22552   \n",
       "name                              22493  21873   \n",
       "summary                           21589  21041   \n",
       "space                             14020  13598   \n",
       "description                       22349  21997   \n",
       "experiences_offered               22552      1   \n",
       "neighborhood_overview             11540  10781   \n",
       "notes                              7215   6687   \n",
       "transit                           13036  12308   \n",
       "access                            10837   9946   \n",
       "interaction                       10406   9584   \n",
       "house_rules                       11449  10350   \n",
       "picture_url                       22552  22465   \n",
       "host_url                          22552  19180   \n",
       "host_name                         22526   5997   \n",
       "host_location                     22436   1036   \n",
       "host_about                        11189   8879   \n",
       "host_response_time                 9658      4   \n",
       "host_response_rate                 9657     64   \n",
       "host_is_superhost                 22526      2   \n",
       "host_thumbnail_url                22526  19100   \n",
       "host_picture_url                  22526  19100   \n",
       "host_neighbourhood                17458    181   \n",
       "host_verifications                22552    301   \n",
       "host_has_profile_pic              22526      2   \n",
       "host_identity_verified            22526      2   \n",
       "street                            22552     86   \n",
       "neighbourhood                     21421     91   \n",
       "neighbourhood_cleansed            22552    136   \n",
       "neighbourhood_group_cleansed      22552     12   \n",
       "city                              22547     60   \n",
       "state                             22468     19   \n",
       "zipcode                           21896    215   \n",
       "market                            22489      6   \n",
       "smart_location                    22552     61   \n",
       "country_code                      22552      1   \n",
       "country                           22552      1   \n",
       "is_location_exact                 22552      2   \n",
       "property_type                     22552     33   \n",
       "room_type                         22552      3   \n",
       "bed_type                          22552      5   \n",
       "amenities                         22552  19985   \n",
       "price                             22552    295   \n",
       "weekly_price                       3681    387   \n",
       "monthly_price                      2659    426   \n",
       "security_deposit                  13191    142   \n",
       "cleaning_fee                      15406    112   \n",
       "extra_people                      22552     65   \n",
       "calendar_updated                  22552     75   \n",
       "has_availability                  22552      1   \n",
       "requires_license                  22552      2   \n",
       "license                            1638   1387   \n",
       "instant_bookable                  22552      2   \n",
       "is_business_travel_ready          22552      1   \n",
       "cancellation_policy               22552      5   \n",
       "require_guest_profile_picture     22552      2   \n",
       "require_guest_phone_verification  22552      2   \n",
       "\n",
       "                                                                                top  \\\n",
       "listing_url                                    https://www.airbnb.com/rooms/9732185   \n",
       "name                                                                 Berlin Wohnung   \n",
       "summary                           with en-suite bathroom, TV, WIFI, bed linen, a...   \n",
       "space                             The Singer 109 Hostel is located in the heart ...   \n",
       "description                       We are located in one of the most colorful dis...   \n",
       "experiences_offered                                                            none   \n",
       "neighborhood_overview             Welcome Traveler. The Singer Hostel and  Apart...   \n",
       "notes                             Since 01.01.2014 the city of Berlin had to ado...   \n",
       "transit                           U-Bahn / Underground /Subway / Metro: U5 (Stra...   \n",
       "access                            We can offer our guests - Pool table/Snooker -...   \n",
       "interaction                       There is always at least 1 member of staff on ...   \n",
       "house_rules                       - Most importantly, please have a respectful a...   \n",
       "picture_url                       https://a0.muscache.com/im/pictures/e62cc6e1-c...   \n",
       "host_url                                  https://www.airbnb.com/users/show/1625771   \n",
       "host_name                                                                      Anna   \n",
       "host_location                                               Berlin, Berlin, Germany   \n",
       "host_about                                                                        .   \n",
       "host_response_time                                                   within an hour   \n",
       "host_response_rate                                                             100%   \n",
       "host_is_superhost                                                                 f   \n",
       "host_thumbnail_url                https://a0.muscache.com/defaults/user_pic-50x5...   \n",
       "host_picture_url                  https://a0.muscache.com/defaults/user_pic-225x...   \n",
       "host_neighbourhood                                                         Neukölln   \n",
       "host_verifications                                    ['email', 'phone', 'reviews']   \n",
       "host_has_profile_pic                                                              t   \n",
       "host_identity_verified                                                            f   \n",
       "street                                                      Berlin, Berlin, Germany   \n",
       "neighbourhood                                                              Neukölln   \n",
       "neighbourhood_cleansed                                         Tempelhofer Vorstadt   \n",
       "neighbourhood_group_cleansed                               Friedrichshain-Kreuzberg   \n",
       "city                                                                         Berlin   \n",
       "state                                                                        Berlin   \n",
       "zipcode                                                                       10245   \n",
       "market                                                                       Berlin   \n",
       "smart_location                                                      Berlin, Germany   \n",
       "country_code                                                                     DE   \n",
       "country                                                                     Germany   \n",
       "is_location_exact                                                                 t   \n",
       "property_type                                                             Apartment   \n",
       "room_type                                                              Private room   \n",
       "bed_type                                                                   Real Bed   \n",
       "amenities                                                                        {}   \n",
       "price                                                                        $30.00   \n",
       "weekly_price                                                                $300.00   \n",
       "monthly_price                                                             $1,200.00   \n",
       "security_deposit                                                              $0.00   \n",
       "cleaning_fee                                                                  $0.00   \n",
       "extra_people                                                                  $0.00   \n",
       "calendar_updated                                                              today   \n",
       "has_availability                                                                  t   \n",
       "requires_license                                                                  t   \n",
       "license                                                                  HRB155306B   \n",
       "instant_bookable                                                                  f   \n",
       "is_business_travel_ready                                                          f   \n",
       "cancellation_policy                                                        flexible   \n",
       "require_guest_profile_picture                                                     f   \n",
       "require_guest_phone_verification                                                  f   \n",
       "\n",
       "                                   freq  \n",
       "listing_url                           1  \n",
       "name                                 14  \n",
       "summary                              14  \n",
       "space                                41  \n",
       "description                          12  \n",
       "experiences_offered               22552  \n",
       "neighborhood_overview                43  \n",
       "notes                                37  \n",
       "transit                              26  \n",
       "access                               42  \n",
       "interaction                          43  \n",
       "house_rules                          30  \n",
       "picture_url                           3  \n",
       "host_url                             45  \n",
       "host_name                           216  \n",
       "host_location                     17188  \n",
       "host_about                           71  \n",
       "host_response_time                 5081  \n",
       "host_response_rate                 7127  \n",
       "host_is_superhost                 19515  \n",
       "host_thumbnail_url                   56  \n",
       "host_picture_url                     56  \n",
       "host_neighbourhood                 2556  \n",
       "host_verifications                 4103  \n",
       "host_has_profile_pic              22470  \n",
       "host_identity_verified            13824  \n",
       "street                            22317  \n",
       "neighbourhood                      3209  \n",
       "neighbourhood_cleansed             1325  \n",
       "neighbourhood_group_cleansed       5497  \n",
       "city                              22417  \n",
       "state                             22417  \n",
       "zipcode                             855  \n",
       "market                            22483  \n",
       "smart_location                    22419  \n",
       "country_code                      22552  \n",
       "country                           22552  \n",
       "is_location_exact                 16776  \n",
       "property_type                     20225  \n",
       "room_type                         11534  \n",
       "bed_type                          21766  \n",
       "amenities                            75  \n",
       "price                              1387  \n",
       "weekly_price                        232  \n",
       "monthly_price                       143  \n",
       "security_deposit                   5319  \n",
       "cleaning_fee                       1865  \n",
       "extra_people                      10863  \n",
       "calendar_updated                   2517  \n",
       "has_availability                  22552  \n",
       "requires_license                  22544  \n",
       "license                              35  \n",
       "instant_bookable                  15518  \n",
       "is_business_travel_ready          22552  \n",
       "cancellation_policy                9102  \n",
       "require_guest_profile_picture     22396  \n",
       "require_guest_phone_verification  22273  "
      ]
     },
     "execution_count": 506,
     "metadata": {},
     "output_type": "execute_result"
    }
   ],
   "source": [
    "listings_df.describe(include='object').T"
   ]
  },
  {
   "cell_type": "markdown",
   "metadata": {},
   "source": [
    "Summary information datetime information"
   ]
  },
  {
   "cell_type": "code",
   "execution_count": 507,
   "metadata": {},
   "outputs": [
    {
     "data": {
      "text/html": [
       "<div>\n",
       "<style scoped>\n",
       "    .dataframe tbody tr th:only-of-type {\n",
       "        vertical-align: middle;\n",
       "    }\n",
       "\n",
       "    .dataframe tbody tr th {\n",
       "        vertical-align: top;\n",
       "    }\n",
       "\n",
       "    .dataframe thead th {\n",
       "        text-align: right;\n",
       "    }\n",
       "</style>\n",
       "<table border=\"1\" class=\"dataframe\">\n",
       "  <thead>\n",
       "    <tr style=\"text-align: right;\">\n",
       "      <th></th>\n",
       "      <th>count</th>\n",
       "      <th>unique</th>\n",
       "      <th>top</th>\n",
       "      <th>freq</th>\n",
       "      <th>first</th>\n",
       "      <th>last</th>\n",
       "    </tr>\n",
       "  </thead>\n",
       "  <tbody>\n",
       "    <tr>\n",
       "      <th>last_scraped</th>\n",
       "      <td>22552</td>\n",
       "      <td>2</td>\n",
       "      <td>2018-11-07</td>\n",
       "      <td>22549</td>\n",
       "      <td>2018-11-07</td>\n",
       "      <td>2018-11-09</td>\n",
       "    </tr>\n",
       "    <tr>\n",
       "      <th>host_since</th>\n",
       "      <td>22526</td>\n",
       "      <td>2914</td>\n",
       "      <td>2017-02-20</td>\n",
       "      <td>51</td>\n",
       "      <td>2008-08-18</td>\n",
       "      <td>2018-11-06</td>\n",
       "    </tr>\n",
       "    <tr>\n",
       "      <th>calendar_last_scraped</th>\n",
       "      <td>22552</td>\n",
       "      <td>2</td>\n",
       "      <td>2018-11-07</td>\n",
       "      <td>22549</td>\n",
       "      <td>2018-11-07</td>\n",
       "      <td>2018-11-09</td>\n",
       "    </tr>\n",
       "    <tr>\n",
       "      <th>first_review</th>\n",
       "      <td>18638</td>\n",
       "      <td>2228</td>\n",
       "      <td>2017-05-28</td>\n",
       "      <td>116</td>\n",
       "      <td>2009-06-20</td>\n",
       "      <td>2018-11-07</td>\n",
       "    </tr>\n",
       "    <tr>\n",
       "      <th>last_review</th>\n",
       "      <td>18644</td>\n",
       "      <td>1312</td>\n",
       "      <td>2018-11-04</td>\n",
       "      <td>618</td>\n",
       "      <td>2010-09-16</td>\n",
       "      <td>2018-11-07</td>\n",
       "    </tr>\n",
       "  </tbody>\n",
       "</table>\n",
       "</div>"
      ],
      "text/plain": [
       "                       count unique        top   freq      first       last\n",
       "last_scraped           22552      2 2018-11-07  22549 2018-11-07 2018-11-09\n",
       "host_since             22526   2914 2017-02-20     51 2008-08-18 2018-11-06\n",
       "calendar_last_scraped  22552      2 2018-11-07  22549 2018-11-07 2018-11-09\n",
       "first_review           18638   2228 2017-05-28    116 2009-06-20 2018-11-07\n",
       "last_review            18644   1312 2018-11-04    618 2010-09-16 2018-11-07"
      ]
     },
     "execution_count": 507,
     "metadata": {},
     "output_type": "execute_result"
    }
   ],
   "source": [
    "listings_df.describe(include=\"datetime\").T"
   ]
  },
  {
   "cell_type": "markdown",
   "metadata": {},
   "source": [
    "Change t and f columns to boolean values and give summary"
   ]
  },
  {
   "cell_type": "code",
   "execution_count": 508,
   "metadata": {},
   "outputs": [
    {
     "data": {
      "text/plain": [
       "'\\nboolean_conversion = {\"t\": True, \"f\": False}\\nboolean_columns = [\\n    \"host_is_superhost\",\\n    \"host_has_profile_pic\",\\n    \"host_identity_verified\",\\n    \"is_location_exact\",\\n    \"has_availability\",\\n    \"requires_license\",\\n    \"instant_bookable\",\\n    \"is_business_travel_ready\",\\n    \"require_guest_profile_picture\",\\n    \"require_guest_phone_verification\"\\n]\\nfor boolean_column in boolean_columns:\\n    listings_df[boolean_column] = listings_df[boolean_column].map(boolean_conversion)\\n'"
      ]
     },
     "execution_count": 508,
     "metadata": {},
     "output_type": "execute_result"
    }
   ],
   "source": [
    "\"\"\"\n",
    "boolean_conversion = {\"t\": True, \"f\": False}\n",
    "boolean_columns = [\n",
    "    \"host_is_superhost\",\n",
    "    \"host_has_profile_pic\",\n",
    "    \"host_identity_verified\",\n",
    "    \"is_location_exact\",\n",
    "    \"has_availability\",\n",
    "    \"requires_license\",\n",
    "    \"instant_bookable\",\n",
    "    \"is_business_travel_ready\",\n",
    "    \"require_guest_profile_picture\",\n",
    "    \"require_guest_phone_verification\"\n",
    "]\n",
    "for boolean_column in boolean_columns:\n",
    "    listings_df[boolean_column] = listings_df[boolean_column].map(boolean_conversion)\n",
    "\"\"\""
   ]
  },
  {
   "cell_type": "markdown",
   "metadata": {},
   "source": [
    "Analysing the distribution by neighbourhood"
   ]
  },
  {
   "cell_type": "code",
   "execution_count": 509,
   "metadata": {},
   "outputs": [
    {
     "data": {
      "text/plain": [
       "Text(0.5, 1.0, 'Distribution by Neighbourhood')"
      ]
     },
     "execution_count": 509,
     "metadata": {},
     "output_type": "execute_result"
    },
    {
     "data": {
      "image/png": "[encoded data removed]",
      "text/plain": [
       "<Figure size 864x432 with 1 Axes>"
      ]
     },
     "metadata": {},
     "output_type": "display_data"
    }
   ],
   "source": [
    "listings_by_neighbourhood = listings_df[\"neighbourhood_group_cleansed\"].value_counts()\n",
    "plt.figure(figsize=(12,6))\n",
    "sns.barplot(x=listings_by_neighbourhood.values,y=listings_by_neighbourhood.index)\n",
    "plt.xlabel(\"Count\")\n",
    "plt.ylabel(\"Neighbourhood\")\n",
    "plt.title(\"Distribution by Neighbourhood\")"
   ]
  },
  {
   "cell_type": "markdown",
   "metadata": {},
   "source": [
    "Convert the price to a float"
   ]
  },
  {
   "cell_type": "code",
   "execution_count": 510,
   "metadata": {},
   "outputs": [],
   "source": [
    "def price_string_to_float(price):\n",
    "    \"\"\"\n",
    "    converts price string from string to float\n",
    "    \"\"\"\n",
    "    return float(price.replace(\",\",\"\").replace(\"$\",\"\"))"
   ]
  },
  {
   "cell_type": "code",
   "execution_count": 511,
   "metadata": {},
   "outputs": [],
   "source": [
    "currency_columns = [\n",
    "    'price',\n",
    "    'weekly_price',\n",
    "    'monthly_price',\n",
    "    'security_deposit',\n",
    "    'cleaning_fee',\n",
    "    'extra_people'\n",
    "]\n",
    "for currency_column in currency_columns:\n",
    "    listings_df[currency_column] = listings_df[currency_column].apply(lambda x: price_string_to_float(x) if pd.notnull(x) else x)"
   ]
  },
  {
   "cell_type": "markdown",
   "metadata": {},
   "source": [
    "Analysing the distribution by room type"
   ]
  },
  {
   "cell_type": "code",
   "execution_count": 512,
   "metadata": {},
   "outputs": [
    {
     "data": {
      "text/html": [
       "<div>\n",
       "<style scoped>\n",
       "    .dataframe tbody tr th:only-of-type {\n",
       "        vertical-align: middle;\n",
       "    }\n",
       "\n",
       "    .dataframe tbody tr th {\n",
       "        vertical-align: top;\n",
       "    }\n",
       "\n",
       "    .dataframe thead th {\n",
       "        text-align: right;\n",
       "    }\n",
       "</style>\n",
       "<table border=\"1\" class=\"dataframe\">\n",
       "  <thead>\n",
       "    <tr style=\"text-align: right;\">\n",
       "      <th></th>\n",
       "      <th>count</th>\n",
       "      <th>mean</th>\n",
       "      <th>std</th>\n",
       "      <th>min</th>\n",
       "      <th>25%</th>\n",
       "      <th>50%</th>\n",
       "      <th>75%</th>\n",
       "      <th>max</th>\n",
       "    </tr>\n",
       "    <tr>\n",
       "      <th>room_type</th>\n",
       "      <th></th>\n",
       "      <th></th>\n",
       "      <th></th>\n",
       "      <th></th>\n",
       "      <th></th>\n",
       "      <th></th>\n",
       "      <th></th>\n",
       "      <th></th>\n",
       "    </tr>\n",
       "  </thead>\n",
       "  <tbody>\n",
       "    <tr>\n",
       "      <th>Entire home/apt</th>\n",
       "      <td>10722.0</td>\n",
       "      <td>83.348909</td>\n",
       "      <td>141.323687</td>\n",
       "      <td>0.0</td>\n",
       "      <td>49.0</td>\n",
       "      <td>65.0</td>\n",
       "      <td>91.0</td>\n",
       "      <td>9000.0</td>\n",
       "    </tr>\n",
       "    <tr>\n",
       "      <th>Private room</th>\n",
       "      <td>11534.0</td>\n",
       "      <td>52.479105</td>\n",
       "      <td>271.403759</td>\n",
       "      <td>0.0</td>\n",
       "      <td>25.0</td>\n",
       "      <td>35.0</td>\n",
       "      <td>45.0</td>\n",
       "      <td>8600.0</td>\n",
       "    </tr>\n",
       "    <tr>\n",
       "      <th>Shared room</th>\n",
       "      <td>296.0</td>\n",
       "      <td>51.564189</td>\n",
       "      <td>291.685951</td>\n",
       "      <td>8.0</td>\n",
       "      <td>18.0</td>\n",
       "      <td>25.0</td>\n",
       "      <td>38.0</td>\n",
       "      <td>5000.0</td>\n",
       "    </tr>\n",
       "  </tbody>\n",
       "</table>\n",
       "</div>"
      ],
      "text/plain": [
       "                   count       mean         std  min   25%   50%   75%     max\n",
       "room_type                                                                     \n",
       "Entire home/apt  10722.0  83.348909  141.323687  0.0  49.0  65.0  91.0  9000.0\n",
       "Private room     11534.0  52.479105  271.403759  0.0  25.0  35.0  45.0  8600.0\n",
       "Shared room        296.0  51.564189  291.685951  8.0  18.0  25.0  38.0  5000.0"
      ]
     },
     "execution_count": 512,
     "metadata": {},
     "output_type": "execute_result"
    }
   ],
   "source": [
    "listings_df.groupby(\"room_type\").describe().price"
   ]
  },
  {
   "cell_type": "code",
   "execution_count": 513,
   "metadata": {},
   "outputs": [
    {
     "data": {
      "text/plain": [
       "Text(0.5, 1.0, 'Distribution by Room Type')"
      ]
     },
     "execution_count": 513,
     "metadata": {},
     "output_type": "execute_result"
    },
    {
     "data": {
      "image/png": "[encoded data removed]",
      "text/plain": [
       "<Figure size 864x432 with 1 Axes>"
      ]
     },
     "metadata": {},
     "output_type": "display_data"
    }
   ],
   "source": [
    "listings_by_room_type = listings_df[\"room_type\"].value_counts()\n",
    "plt.figure(figsize=(12,6))\n",
    "sns.barplot(x=listings_by_room_type.values,y=listings_by_room_type.index)\n",
    "plt.xlabel(\"Count\")\n",
    "plt.ylabel(\"Room Type\")\n",
    "plt.title(\"Distribution by Room Type\")"
   ]
  },
  {
   "cell_type": "markdown",
   "metadata": {},
   "source": [
    "Set the index to be the listing id"
   ]
  },
  {
   "cell_type": "code",
   "execution_count": 514,
   "metadata": {},
   "outputs": [],
   "source": [
    "listings_df = listings_df.set_index(\"id\")"
   ]
  },
  {
   "cell_type": "markdown",
   "metadata": {},
   "source": [
    "Checking the data for duplicates"
   ]
  },
  {
   "cell_type": "code",
   "execution_count": 515,
   "metadata": {},
   "outputs": [
    {
     "data": {
      "text/plain": [
       "True"
      ]
     },
     "execution_count": 515,
     "metadata": {},
     "output_type": "execute_result"
    }
   ],
   "source": [
    "all(~listings_df.duplicated())"
   ]
  },
  {
   "cell_type": "markdown",
   "metadata": {},
   "source": [
    "Analysing the distribution of the price"
   ]
  },
  {
   "cell_type": "code",
   "execution_count": 516,
   "metadata": {},
   "outputs": [
    {
     "data": {
      "text/plain": [
       "Text(0.5, 1.0, 'Price Distribution')"
      ]
     },
     "execution_count": 516,
     "metadata": {},
     "output_type": "execute_result"
    },
    {
     "data": {
      "image/png": "[encoded data removed]",
      "text/plain": [
       "<Figure size 864x432 with 1 Axes>"
      ]
     },
     "metadata": {},
     "output_type": "display_data"
    }
   ],
   "source": [
    "plt.figure(figsize=(12,6))\n",
    "sns.distplot(listings_df[\"price\"], bins=30)\n",
    "plt.title(\"Price Distribution\")"
   ]
  },
  {
   "cell_type": "markdown",
   "metadata": {},
   "source": [
    "Exploring the distribution of accomodations by number of bedrooms"
   ]
  },
  {
   "cell_type": "code",
   "execution_count": 517,
   "metadata": {},
   "outputs": [
    {
     "data": {
      "text/html": [
       "<div>\n",
       "<style scoped>\n",
       "    .dataframe tbody tr th:only-of-type {\n",
       "        vertical-align: middle;\n",
       "    }\n",
       "\n",
       "    .dataframe tbody tr th {\n",
       "        vertical-align: top;\n",
       "    }\n",
       "\n",
       "    .dataframe thead th {\n",
       "        text-align: right;\n",
       "    }\n",
       "</style>\n",
       "<table border=\"1\" class=\"dataframe\">\n",
       "  <thead>\n",
       "    <tr style=\"text-align: right;\">\n",
       "      <th></th>\n",
       "      <th>count</th>\n",
       "      <th>mean</th>\n",
       "      <th>std</th>\n",
       "      <th>min</th>\n",
       "      <th>25%</th>\n",
       "      <th>50%</th>\n",
       "      <th>75%</th>\n",
       "      <th>max</th>\n",
       "    </tr>\n",
       "    <tr>\n",
       "      <th>bedrooms</th>\n",
       "      <th></th>\n",
       "      <th></th>\n",
       "      <th></th>\n",
       "      <th></th>\n",
       "      <th></th>\n",
       "      <th></th>\n",
       "      <th></th>\n",
       "      <th></th>\n",
       "    </tr>\n",
       "  </thead>\n",
       "  <tbody>\n",
       "    <tr>\n",
       "      <th>0.0</th>\n",
       "      <td>1477.0</td>\n",
       "      <td>55.974272</td>\n",
       "      <td>71.595328</td>\n",
       "      <td>10.0</td>\n",
       "      <td>35.00</td>\n",
       "      <td>50.0</td>\n",
       "      <td>65.00</td>\n",
       "      <td>2500.0</td>\n",
       "    </tr>\n",
       "    <tr>\n",
       "      <th>1.0</th>\n",
       "      <td>17164.0</td>\n",
       "      <td>57.933524</td>\n",
       "      <td>237.000776</td>\n",
       "      <td>0.0</td>\n",
       "      <td>30.00</td>\n",
       "      <td>40.0</td>\n",
       "      <td>60.00</td>\n",
       "      <td>9000.0</td>\n",
       "    </tr>\n",
       "    <tr>\n",
       "      <th>2.0</th>\n",
       "      <td>2973.0</td>\n",
       "      <td>93.670703</td>\n",
       "      <td>77.045447</td>\n",
       "      <td>0.0</td>\n",
       "      <td>55.00</td>\n",
       "      <td>80.0</td>\n",
       "      <td>110.00</td>\n",
       "      <td>1900.0</td>\n",
       "    </tr>\n",
       "    <tr>\n",
       "      <th>3.0</th>\n",
       "      <td>723.0</td>\n",
       "      <td>147.319502</td>\n",
       "      <td>163.514310</td>\n",
       "      <td>9.0</td>\n",
       "      <td>80.00</td>\n",
       "      <td>119.0</td>\n",
       "      <td>171.00</td>\n",
       "      <td>3000.0</td>\n",
       "    </tr>\n",
       "    <tr>\n",
       "      <th>4.0</th>\n",
       "      <td>143.0</td>\n",
       "      <td>175.692308</td>\n",
       "      <td>109.218945</td>\n",
       "      <td>22.0</td>\n",
       "      <td>100.00</td>\n",
       "      <td>150.0</td>\n",
       "      <td>220.00</td>\n",
       "      <td>650.0</td>\n",
       "    </tr>\n",
       "    <tr>\n",
       "      <th>5.0</th>\n",
       "      <td>34.0</td>\n",
       "      <td>571.941176</td>\n",
       "      <td>1377.128808</td>\n",
       "      <td>69.0</td>\n",
       "      <td>171.25</td>\n",
       "      <td>242.5</td>\n",
       "      <td>356.75</td>\n",
       "      <td>8000.0</td>\n",
       "    </tr>\n",
       "    <tr>\n",
       "      <th>6.0</th>\n",
       "      <td>10.0</td>\n",
       "      <td>262.200000</td>\n",
       "      <td>147.309048</td>\n",
       "      <td>70.0</td>\n",
       "      <td>152.25</td>\n",
       "      <td>257.0</td>\n",
       "      <td>360.00</td>\n",
       "      <td>500.0</td>\n",
       "    </tr>\n",
       "    <tr>\n",
       "      <th>7.0</th>\n",
       "      <td>3.0</td>\n",
       "      <td>346.333333</td>\n",
       "      <td>232.379718</td>\n",
       "      <td>79.0</td>\n",
       "      <td>269.50</td>\n",
       "      <td>460.0</td>\n",
       "      <td>480.00</td>\n",
       "      <td>500.0</td>\n",
       "    </tr>\n",
       "    <tr>\n",
       "      <th>8.0</th>\n",
       "      <td>4.0</td>\n",
       "      <td>408.000000</td>\n",
       "      <td>352.269783</td>\n",
       "      <td>74.0</td>\n",
       "      <td>220.25</td>\n",
       "      <td>329.5</td>\n",
       "      <td>517.25</td>\n",
       "      <td>899.0</td>\n",
       "    </tr>\n",
       "    <tr>\n",
       "      <th>9.0</th>\n",
       "      <td>1.0</td>\n",
       "      <td>50.000000</td>\n",
       "      <td>NaN</td>\n",
       "      <td>50.0</td>\n",
       "      <td>50.00</td>\n",
       "      <td>50.0</td>\n",
       "      <td>50.00</td>\n",
       "      <td>50.0</td>\n",
       "    </tr>\n",
       "    <tr>\n",
       "      <th>10.0</th>\n",
       "      <td>1.0</td>\n",
       "      <td>421.000000</td>\n",
       "      <td>NaN</td>\n",
       "      <td>421.0</td>\n",
       "      <td>421.00</td>\n",
       "      <td>421.0</td>\n",
       "      <td>421.00</td>\n",
       "      <td>421.0</td>\n",
       "    </tr>\n",
       "    <tr>\n",
       "      <th>12.0</th>\n",
       "      <td>1.0</td>\n",
       "      <td>885.000000</td>\n",
       "      <td>NaN</td>\n",
       "      <td>885.0</td>\n",
       "      <td>885.00</td>\n",
       "      <td>885.0</td>\n",
       "      <td>885.00</td>\n",
       "      <td>885.0</td>\n",
       "    </tr>\n",
       "  </tbody>\n",
       "</table>\n",
       "</div>"
      ],
      "text/plain": [
       "            count        mean          std    min     25%    50%     75%  \\\n",
       "bedrooms                                                                   \n",
       "0.0        1477.0   55.974272    71.595328   10.0   35.00   50.0   65.00   \n",
       "1.0       17164.0   57.933524   237.000776    0.0   30.00   40.0   60.00   \n",
       "2.0        2973.0   93.670703    77.045447    0.0   55.00   80.0  110.00   \n",
       "3.0         723.0  147.319502   163.514310    9.0   80.00  119.0  171.00   \n",
       "4.0         143.0  175.692308   109.218945   22.0  100.00  150.0  220.00   \n",
       "5.0          34.0  571.941176  1377.128808   69.0  171.25  242.5  356.75   \n",
       "6.0          10.0  262.200000   147.309048   70.0  152.25  257.0  360.00   \n",
       "7.0           3.0  346.333333   232.379718   79.0  269.50  460.0  480.00   \n",
       "8.0           4.0  408.000000   352.269783   74.0  220.25  329.5  517.25   \n",
       "9.0           1.0   50.000000          NaN   50.0   50.00   50.0   50.00   \n",
       "10.0          1.0  421.000000          NaN  421.0  421.00  421.0  421.00   \n",
       "12.0          1.0  885.000000          NaN  885.0  885.00  885.0  885.00   \n",
       "\n",
       "             max  \n",
       "bedrooms          \n",
       "0.0       2500.0  \n",
       "1.0       9000.0  \n",
       "2.0       1900.0  \n",
       "3.0       3000.0  \n",
       "4.0        650.0  \n",
       "5.0       8000.0  \n",
       "6.0        500.0  \n",
       "7.0        500.0  \n",
       "8.0        899.0  \n",
       "9.0         50.0  \n",
       "10.0       421.0  \n",
       "12.0       885.0  "
      ]
     },
     "execution_count": 517,
     "metadata": {},
     "output_type": "execute_result"
    }
   ],
   "source": [
    "listings_by_bedroom_no = listings_df.groupby(\"bedrooms\").describe()[\"price\"]\n",
    "listings_by_bedroom_no"
   ]
  },
  {
   "cell_type": "code",
   "execution_count": 518,
   "metadata": {},
   "outputs": [
    {
     "data": {
      "text/plain": [
       "Text(0, 0.5, 'Count')"
      ]
     },
     "execution_count": 518,
     "metadata": {},
     "output_type": "execute_result"
    },
    {
     "data": {
      "image/png": "[encoded data removed]",
      "text/plain": [
       "<Figure size 864x432 with 1 Axes>"
      ]
     },
     "metadata": {},
     "output_type": "display_data"
    }
   ],
   "source": [
    "plt.figure(figsize=(12,6))\n",
    "sns.barplot(x=listings_by_bedroom_no.index, y=listings_by_bedroom_no[\"count\"])\n",
    "plt.title(\"Distribution by Number of Rooms\")\n",
    "plt.xlabel(\"Number of Bedrooms\")\n",
    "plt.ylabel(\"Count\")"
   ]
  },
  {
   "cell_type": "markdown",
   "metadata": {},
   "source": [
    "Analysing the host data"
   ]
  },
  {
   "cell_type": "code",
   "execution_count": 519,
   "metadata": {},
   "outputs": [
    {
     "data": {
      "text/plain": [
       "host_id                               0\n",
       "host_url                              0\n",
       "host_name                            26\n",
       "host_since                           26\n",
       "host_location                       116\n",
       "host_about                        11363\n",
       "host_response_time                12894\n",
       "host_response_rate                12895\n",
       "host_acceptance_rate              22552\n",
       "host_is_superhost                    26\n",
       "host_thumbnail_url                   26\n",
       "host_picture_url                     26\n",
       "host_neighbourhood                 5094\n",
       "host_listings_count                  26\n",
       "host_total_listings_count            26\n",
       "host_verifications                    0\n",
       "host_has_profile_pic                 26\n",
       "host_identity_verified               26\n",
       "calculated_host_listings_count        0\n",
       "dtype: int64"
      ]
     },
     "execution_count": 519,
     "metadata": {},
     "output_type": "execute_result"
    }
   ],
   "source": [
    "host_columns = [column for column in listings_df.columns if \"host\" in column]\n",
    "listings_df[host_columns].isnull().sum()"
   ]
  },
  {
   "cell_type": "markdown",
   "metadata": {},
   "source": [
    "## Neighbourhoods exploration"
   ]
  },
  {
   "cell_type": "code",
   "execution_count": 520,
   "metadata": {},
   "outputs": [
    {
     "data": {
      "text/html": [
       "<div>\n",
       "<style scoped>\n",
       "    .dataframe tbody tr th:only-of-type {\n",
       "        vertical-align: middle;\n",
       "    }\n",
       "\n",
       "    .dataframe tbody tr th {\n",
       "        vertical-align: top;\n",
       "    }\n",
       "\n",
       "    .dataframe thead th {\n",
       "        text-align: right;\n",
       "    }\n",
       "</style>\n",
       "<table border=\"1\" class=\"dataframe\">\n",
       "  <thead>\n",
       "    <tr style=\"text-align: right;\">\n",
       "      <th></th>\n",
       "      <th>neighbourhood_group</th>\n",
       "      <th>neighbourhood</th>\n",
       "    </tr>\n",
       "  </thead>\n",
       "  <tbody>\n",
       "    <tr>\n",
       "      <th>count</th>\n",
       "      <td>138</td>\n",
       "      <td>138</td>\n",
       "    </tr>\n",
       "    <tr>\n",
       "      <th>unique</th>\n",
       "      <td>12</td>\n",
       "      <td>138</td>\n",
       "    </tr>\n",
       "    <tr>\n",
       "      <th>top</th>\n",
       "      <td>Treptow - Köpenick</td>\n",
       "      <td>Karow</td>\n",
       "    </tr>\n",
       "    <tr>\n",
       "      <th>freq</th>\n",
       "      <td>20</td>\n",
       "      <td>1</td>\n",
       "    </tr>\n",
       "  </tbody>\n",
       "</table>\n",
       "</div>"
      ],
      "text/plain": [
       "       neighbourhood_group neighbourhood\n",
       "count                  138           138\n",
       "unique                  12           138\n",
       "top     Treptow - Köpenick         Karow\n",
       "freq                    20             1"
      ]
     },
     "execution_count": 520,
     "metadata": {},
     "output_type": "execute_result"
    }
   ],
   "source": [
    "neighbourhoods.describe()"
   ]
  },
  {
   "cell_type": "code",
   "execution_count": 521,
   "metadata": {},
   "outputs": [
    {
     "data": {
      "text/html": [
       "<div>\n",
       "<style scoped>\n",
       "    .dataframe tbody tr th:only-of-type {\n",
       "        vertical-align: middle;\n",
       "    }\n",
       "\n",
       "    .dataframe tbody tr th {\n",
       "        vertical-align: top;\n",
       "    }\n",
       "\n",
       "    .dataframe thead th {\n",
       "        text-align: right;\n",
       "    }\n",
       "</style>\n",
       "<table border=\"1\" class=\"dataframe\">\n",
       "  <thead>\n",
       "    <tr style=\"text-align: right;\">\n",
       "      <th></th>\n",
       "      <th>neighbourhood_group</th>\n",
       "      <th>neighbourhood</th>\n",
       "    </tr>\n",
       "  </thead>\n",
       "  <tbody>\n",
       "    <tr>\n",
       "      <th>0</th>\n",
       "      <td>Charlottenburg-Wilm.</td>\n",
       "      <td>Barstraße</td>\n",
       "    </tr>\n",
       "    <tr>\n",
       "      <th>1</th>\n",
       "      <td>Charlottenburg-Wilm.</td>\n",
       "      <td>Charlottenburg Nord</td>\n",
       "    </tr>\n",
       "    <tr>\n",
       "      <th>2</th>\n",
       "      <td>Charlottenburg-Wilm.</td>\n",
       "      <td>Düsseldorfer Straße</td>\n",
       "    </tr>\n",
       "    <tr>\n",
       "      <th>3</th>\n",
       "      <td>Charlottenburg-Wilm.</td>\n",
       "      <td>Forst Grunewald</td>\n",
       "    </tr>\n",
       "    <tr>\n",
       "      <th>4</th>\n",
       "      <td>Charlottenburg-Wilm.</td>\n",
       "      <td>Grunewald</td>\n",
       "    </tr>\n",
       "  </tbody>\n",
       "</table>\n",
       "</div>"
      ],
      "text/plain": [
       "    neighbourhood_group        neighbourhood\n",
       "0  Charlottenburg-Wilm.            Barstraße\n",
       "1  Charlottenburg-Wilm.  Charlottenburg Nord\n",
       "2  Charlottenburg-Wilm.  Düsseldorfer Straße\n",
       "3  Charlottenburg-Wilm.      Forst Grunewald\n",
       "4  Charlottenburg-Wilm.            Grunewald"
      ]
     },
     "execution_count": 521,
     "metadata": {},
     "output_type": "execute_result"
    }
   ],
   "source": [
    "neighbourhoods.head()"
   ]
  },
  {
   "cell_type": "markdown",
   "metadata": {},
   "source": [
    "Barplot representing the number of neighbourhoods that constitute to a neighbourhood group"
   ]
  },
  {
   "cell_type": "code",
   "execution_count": 522,
   "metadata": {},
   "outputs": [
    {
     "data": {
      "text/plain": [
       "Text(0.5, 0, 'Neighbourhoods')"
      ]
     },
     "execution_count": 522,
     "metadata": {},
     "output_type": "execute_result"
    },
    {
     "data": {
      "image/png": "[encoded data removed]",
      "text/plain": [
       "<Figure size 432x288 with 1 Axes>"
      ]
     },
     "metadata": {},
     "output_type": "display_data"
    }
   ],
   "source": [
    "neighbourhood_groups_count = neighbourhoods[\"neighbourhood_group\"].value_counts()\n",
    "sns.barplot(x=neighbourhood_groups_count.values, y=neighbourhood_groups_count.index)\n",
    "plt.title(\"Quantity of 'Neighbourhoods' in 'Neighbourhood Groups'\")\n",
    "plt.ylabel(\"NeighBourhood Group\")\n",
    "plt.xlabel(\"Neighbourhoods\")"
   ]
  },
  {
   "cell_type": "markdown",
   "metadata": {},
   "source": [
    "## Exploration Review\n",
    "\n",
    "1. Calendar Summary\n",
    "\n",
    "  - The only missing values are in the price column.\n",
    "  - Price is only missing when available is 'f'.\n",
    "  - The entries are from the period of 7/11/2018 to 8/11/2019\n",
    "  - Could this be used to analyse how prices/availability fluctuate depending on time of year/day of the week?\n",
    "  \n",
    "  \n",
    "2. Listings\n",
    "\n",
    "  - There are five columns with entirely empty columns and many missing the majority of entries.\n",
    "  - Nearly 20% of the listings dont have any review data.\n",
    "  - There are a small amount of rows missing (seemingly) important information (beds, etc.).\n",
    "  - All the hosts have been registered between 18/8/2008 and 6/11/2018.\n",
    "  - There are 26 hosts that are missing most/all information about themselves.\n",
    "  \n",
    "  \n",
    "3. Neighbourhoods\n",
    "\n",
    "  - There are 12 neighbourhood groups that contain 138 neighbourhoods in total.\n",
    "  \n",
    "  \n",
    "  \n",
    "I will mostly use the listings data to create a model to predict the price. However, I will also attempt to use the calender data to model the change in price in different times of the year/days of the week."
   ]
  },
  {
   "cell_type": "markdown",
   "metadata": {},
   "source": [
    "## Data Cleaning"
   ]
  },
  {
   "cell_type": "markdown",
   "metadata": {},
   "source": [
    "Remove columns that contain no information or zero variance"
   ]
  },
  {
   "cell_type": "code",
   "execution_count": 523,
   "metadata": {},
   "outputs": [],
   "source": [
    "columns_to_remove = [\n",
    "    \"medium_url\",\n",
    "    \"jurisdiction_names\",\n",
    "    \"thumbnail_url\",\n",
    "    \"host_acceptance_rate\",\n",
    "    \"xl_picture_url\",\n",
    "    \"experiences_offered\",\n",
    "    \"country\",\n",
    "    \"country_code\",\n",
    "    \"has_availability\",\n",
    "    \"is_business_travel_ready\"\n",
    "]\n",
    "listings_df.drop(columns_to_remove, axis=1, inplace=True)"
   ]
  },
  {
   "cell_type": "markdown",
   "metadata": {},
   "source": [
    "Remove descriptive columns"
   ]
  },
  {
   "cell_type": "code",
   "execution_count": 524,
   "metadata": {},
   "outputs": [],
   "source": [
    "columns_to_remove = [\n",
    "    \"listing_url\",\n",
    "    \"name\",\n",
    "    \"summary\",\n",
    "    \"space\",\n",
    "    \"description\",\n",
    "    \"neighborhood_overview\",\n",
    "    \"notes\",\n",
    "    \"transit\",\n",
    "    \"access\",\n",
    "    \"interaction\",\n",
    "    \"house_rules\",\n",
    "    \"picture_url\",\n",
    "    \"host_url\",\n",
    "    \"host_name\",\n",
    "    \"host_location\",\n",
    "    \"host_about\",\n",
    "    \"host_response_rate\",\n",
    "    \"host_thumbnail_url\",\n",
    "    \"host_picture_url\",\n",
    "    \"license\"\n",
    "]\n",
    "listings_df.drop(columns_to_remove, axis=1, inplace=True)"
   ]
  },
  {
   "cell_type": "markdown",
   "metadata": {},
   "source": [
    "Remove scrape data"
   ]
  },
  {
   "cell_type": "code",
   "execution_count": 525,
   "metadata": {},
   "outputs": [],
   "source": [
    "listings_df.drop(['scrape_id', 'last_scraped'], axis=1, inplace=True)"
   ]
  },
  {
   "cell_type": "markdown",
   "metadata": {},
   "source": [
    "Remove columns with a large amount of missing data"
   ]
  },
  {
   "cell_type": "code",
   "execution_count": 526,
   "metadata": {},
   "outputs": [],
   "source": [
    "columns_to_remove = [\n",
    "    \"square_feet\",\n",
    "    \"monthly_price\",\n",
    "    \"weekly_price\",\n",
    "    \"host_response_time\",\n",
    "    \"security_deposit\",\n",
    "    \"cleaning_fee\",\n",
    "    \"host_neighbourhood\",\n",
    "    \"first_review\",\n",
    "    \"last_review\"\n",
    "]\n",
    "listings_df.drop(columns_to_remove, axis=1, inplace=True)"
   ]
  },
  {
   "cell_type": "markdown",
   "metadata": {},
   "source": [
    "Now I will get rid of a number of columns that a new host to airbnb wouldn't be able to provide or wouldn't be applicable"
   ]
  },
  {
   "cell_type": "code",
   "execution_count": 527,
   "metadata": {},
   "outputs": [],
   "source": [
    "columns_to_remove = [\n",
    "    \"host_id\",\n",
    "    \"host_since\",\n",
    "    \"host_has_profile_pic\",\n",
    "    \"calendar_updated\",\n",
    "    \"calendar_last_scraped\",\n",
    "    \"number_of_reviews\",\n",
    "    \"review_scores_rating\",\n",
    "    \"review_scores_accuracy\",\n",
    "    \"review_scores_cleanliness\",\n",
    "    \"review_scores_checkin\",\n",
    "    \"review_scores_communication\",\n",
    "    \"review_scores_location\",\n",
    "    \"review_scores_value\",\n",
    "    \"reviews_per_month\"\n",
    "]\n",
    "listings_df.drop(columns_to_remove, axis=1, inplace=True)"
   ]
  },
  {
   "cell_type": "code",
   "execution_count": 528,
   "metadata": {},
   "outputs": [
    {
     "data": {
      "text/html": [
       "<div>\n",
       "<style scoped>\n",
       "    .dataframe tbody tr th:only-of-type {\n",
       "        vertical-align: middle;\n",
       "    }\n",
       "\n",
       "    .dataframe tbody tr th {\n",
       "        vertical-align: top;\n",
       "    }\n",
       "\n",
       "    .dataframe thead th {\n",
       "        text-align: right;\n",
       "    }\n",
       "</style>\n",
       "<table border=\"1\" class=\"dataframe\">\n",
       "  <thead>\n",
       "    <tr style=\"text-align: right;\">\n",
       "      <th></th>\n",
       "      <th>host_is_superhost</th>\n",
       "      <th>host_verifications</th>\n",
       "      <th>host_identity_verified</th>\n",
       "      <th>street</th>\n",
       "      <th>neighbourhood</th>\n",
       "      <th>neighbourhood_cleansed</th>\n",
       "      <th>neighbourhood_group_cleansed</th>\n",
       "      <th>city</th>\n",
       "      <th>state</th>\n",
       "      <th>zipcode</th>\n",
       "      <th>...</th>\n",
       "      <th>is_location_exact</th>\n",
       "      <th>property_type</th>\n",
       "      <th>room_type</th>\n",
       "      <th>bed_type</th>\n",
       "      <th>amenities</th>\n",
       "      <th>requires_license</th>\n",
       "      <th>instant_bookable</th>\n",
       "      <th>cancellation_policy</th>\n",
       "      <th>require_guest_profile_picture</th>\n",
       "      <th>require_guest_phone_verification</th>\n",
       "    </tr>\n",
       "  </thead>\n",
       "  <tbody>\n",
       "    <tr>\n",
       "      <th>count</th>\n",
       "      <td>22526</td>\n",
       "      <td>22552</td>\n",
       "      <td>22526</td>\n",
       "      <td>22552</td>\n",
       "      <td>21421</td>\n",
       "      <td>22552</td>\n",
       "      <td>22552</td>\n",
       "      <td>22547</td>\n",
       "      <td>22468</td>\n",
       "      <td>21896</td>\n",
       "      <td>...</td>\n",
       "      <td>22552</td>\n",
       "      <td>22552</td>\n",
       "      <td>22552</td>\n",
       "      <td>22552</td>\n",
       "      <td>22552</td>\n",
       "      <td>22552</td>\n",
       "      <td>22552</td>\n",
       "      <td>22552</td>\n",
       "      <td>22552</td>\n",
       "      <td>22552</td>\n",
       "    </tr>\n",
       "    <tr>\n",
       "      <th>unique</th>\n",
       "      <td>2</td>\n",
       "      <td>301</td>\n",
       "      <td>2</td>\n",
       "      <td>86</td>\n",
       "      <td>91</td>\n",
       "      <td>136</td>\n",
       "      <td>12</td>\n",
       "      <td>60</td>\n",
       "      <td>19</td>\n",
       "      <td>215</td>\n",
       "      <td>...</td>\n",
       "      <td>2</td>\n",
       "      <td>33</td>\n",
       "      <td>3</td>\n",
       "      <td>5</td>\n",
       "      <td>19985</td>\n",
       "      <td>2</td>\n",
       "      <td>2</td>\n",
       "      <td>5</td>\n",
       "      <td>2</td>\n",
       "      <td>2</td>\n",
       "    </tr>\n",
       "    <tr>\n",
       "      <th>top</th>\n",
       "      <td>f</td>\n",
       "      <td>['email', 'phone', 'reviews']</td>\n",
       "      <td>f</td>\n",
       "      <td>Berlin, Berlin, Germany</td>\n",
       "      <td>Neukölln</td>\n",
       "      <td>Tempelhofer Vorstadt</td>\n",
       "      <td>Friedrichshain-Kreuzberg</td>\n",
       "      <td>Berlin</td>\n",
       "      <td>Berlin</td>\n",
       "      <td>10245</td>\n",
       "      <td>...</td>\n",
       "      <td>t</td>\n",
       "      <td>Apartment</td>\n",
       "      <td>Private room</td>\n",
       "      <td>Real Bed</td>\n",
       "      <td>{}</td>\n",
       "      <td>t</td>\n",
       "      <td>f</td>\n",
       "      <td>flexible</td>\n",
       "      <td>f</td>\n",
       "      <td>f</td>\n",
       "    </tr>\n",
       "    <tr>\n",
       "      <th>freq</th>\n",
       "      <td>19515</td>\n",
       "      <td>4103</td>\n",
       "      <td>13824</td>\n",
       "      <td>22317</td>\n",
       "      <td>3209</td>\n",
       "      <td>1325</td>\n",
       "      <td>5497</td>\n",
       "      <td>22417</td>\n",
       "      <td>22417</td>\n",
       "      <td>855</td>\n",
       "      <td>...</td>\n",
       "      <td>16776</td>\n",
       "      <td>20225</td>\n",
       "      <td>11534</td>\n",
       "      <td>21766</td>\n",
       "      <td>75</td>\n",
       "      <td>22544</td>\n",
       "      <td>15518</td>\n",
       "      <td>9102</td>\n",
       "      <td>22396</td>\n",
       "      <td>22273</td>\n",
       "    </tr>\n",
       "  </tbody>\n",
       "</table>\n",
       "<p>4 rows × 22 columns</p>\n",
       "</div>"
      ],
      "text/plain": [
       "       host_is_superhost             host_verifications  \\\n",
       "count              22526                          22552   \n",
       "unique                 2                            301   \n",
       "top                    f  ['email', 'phone', 'reviews']   \n",
       "freq               19515                           4103   \n",
       "\n",
       "       host_identity_verified                   street neighbourhood  \\\n",
       "count                   22526                    22552         21421   \n",
       "unique                      2                       86            91   \n",
       "top                         f  Berlin, Berlin, Germany      Neukölln   \n",
       "freq                    13824                    22317          3209   \n",
       "\n",
       "       neighbourhood_cleansed neighbourhood_group_cleansed    city   state  \\\n",
       "count                   22552                        22552   22547   22468   \n",
       "unique                    136                           12      60      19   \n",
       "top      Tempelhofer Vorstadt     Friedrichshain-Kreuzberg  Berlin  Berlin   \n",
       "freq                     1325                         5497   22417   22417   \n",
       "\n",
       "       zipcode  ... is_location_exact property_type     room_type  bed_type  \\\n",
       "count    21896  ...             22552         22552         22552     22552   \n",
       "unique     215  ...                 2            33             3         5   \n",
       "top      10245  ...                 t     Apartment  Private room  Real Bed   \n",
       "freq       855  ...             16776         20225         11534     21766   \n",
       "\n",
       "       amenities requires_license instant_bookable cancellation_policy  \\\n",
       "count      22552            22552            22552               22552   \n",
       "unique     19985                2                2                   5   \n",
       "top           {}                t                f            flexible   \n",
       "freq          75            22544            15518                9102   \n",
       "\n",
       "       require_guest_profile_picture require_guest_phone_verification  \n",
       "count                          22552                            22552  \n",
       "unique                             2                                2  \n",
       "top                                f                                f  \n",
       "freq                           22396                            22273  \n",
       "\n",
       "[4 rows x 22 columns]"
      ]
     },
     "execution_count": 528,
     "metadata": {},
     "output_type": "execute_result"
    }
   ],
   "source": [
    "listings_df.describe(include='object')"
   ]
  },
  {
   "cell_type": "markdown",
   "metadata": {},
   "source": [
    "Convert binary classification columns to boolean"
   ]
  },
  {
   "cell_type": "code",
   "execution_count": 529,
   "metadata": {},
   "outputs": [],
   "source": [
    "bool_columns = [\n",
    "    \"is_location_exact\",\n",
    "    \"requires_license\",\n",
    "    \"instant_bookable\",\n",
    "    \"require_guest_profile_picture\",\n",
    "    \"require_guest_phone_verification\"\n",
    "]\n",
    "for bool_column in bool_columns:\n",
    "    listings_df[bool_column].map({\"t\": True, \"f\": False})"
   ]
  },
  {
   "cell_type": "markdown",
   "metadata": {},
   "source": [
    "The distribution of price seems to be very skewed, so I will analyse the price including less results with a large price."
   ]
  },
  {
   "cell_type": "code",
   "execution_count": 530,
   "metadata": {},
   "outputs": [
    {
     "data": {
      "text/plain": [
       "74"
      ]
     },
     "execution_count": 530,
     "metadata": {},
     "output_type": "execute_result"
    }
   ],
   "source": [
    "listings_df[listings_df[\"price\"] > 500][\"price\"].count()"
   ]
  },
  {
   "cell_type": "code",
   "execution_count": 531,
   "metadata": {},
   "outputs": [
    {
     "name": "stdout",
     "output_type": "stream",
     "text": [
      "93\n",
      "8\n"
     ]
    }
   ],
   "source": [
    "print((listings_df[\"price\"] > 450).sum())\n",
    "print((listings_df[\"price\"] == 0).sum())"
   ]
  },
  {
   "cell_type": "code",
   "execution_count": 532,
   "metadata": {},
   "outputs": [
    {
     "data": {
      "text/plain": [
       "(0, 450)"
      ]
     },
     "execution_count": 532,
     "metadata": {},
     "output_type": "execute_result"
    },
    {
     "data": {
      "image/png": "[encoded data removed]",
      "text/plain": [
       "<Figure size 864x432 with 1 Axes>"
      ]
     },
     "metadata": {},
     "output_type": "display_data"
    }
   ],
   "source": [
    "plt.figure(figsize=(12, 6))\n",
    "sns.distplot(listings_df[listings_df[\"price\"] < 450][\"price\"], bins=50)\n",
    "plt.xlim((0, 450))"
   ]
  },
  {
   "cell_type": "markdown",
   "metadata": {},
   "source": [
    "There seems to be a large amount of the data between 0 and 200, then some results scattered between 200 and 8000. It could be beneficial to the model to remove outliers to get a better prediction."
   ]
  },
  {
   "cell_type": "markdown",
   "metadata": {},
   "source": [
    "Looking at the correlations for price"
   ]
  },
  {
   "cell_type": "code",
   "execution_count": 533,
   "metadata": {},
   "outputs": [
    {
     "data": {
      "text/plain": [
       "longitude                        -0.042662\n",
       "maximum_nights                   -0.000882\n",
       "latitude                          0.002181\n",
       "minimum_nights                    0.003626\n",
       "host_listings_count               0.015221\n",
       "host_total_listings_count         0.015221\n",
       "extra_people                      0.018519\n",
       "bathrooms                         0.067586\n",
       "calculated_host_listings_count    0.073244\n",
       "beds                              0.100805\n",
       "guests_included                   0.102213\n",
       "availability_365                  0.105959\n",
       "availability_30                   0.110514\n",
       "availability_90                   0.111024\n",
       "bedrooms                          0.113095\n",
       "availability_60                   0.114954\n",
       "accommodates                      0.135563\n",
       "price                             1.000000\n",
       "Name: price, dtype: float64"
      ]
     },
     "execution_count": 533,
     "metadata": {},
     "output_type": "execute_result"
    }
   ],
   "source": [
    "listings_df.corr()[\"price\"].sort_values()"
   ]
  },
  {
   "cell_type": "markdown",
   "metadata": {},
   "source": [
    "From the correlations, I will get rid of more columns"
   ]
  },
  {
   "cell_type": "code",
   "execution_count": 534,
   "metadata": {},
   "outputs": [],
   "source": [
    "columns_to_drop = [\n",
    "    \"maximum_nights\",\n",
    "    \"minimum_nights\",\n",
    "    \"host_listings_count\",\n",
    "    \"host_total_listings_count\",\n",
    "    \"extra_people\",\n",
    "    \"availability_30\",\n",
    "    \"availability_60\",\n",
    "    \"availability_90\"\n",
    "]\n",
    "listings_df.drop(columns_to_drop, axis=1, inplace=True)"
   ]
  },
  {
   "cell_type": "markdown",
   "metadata": {},
   "source": [
    "We will just use the neighbourhood group for modelling so we can get rid of other locational details, aprt from lat, long as we can use this for feature engineering."
   ]
  },
  {
   "cell_type": "code",
   "execution_count": 535,
   "metadata": {},
   "outputs": [],
   "source": [
    "columns_to_drop = [\n",
    "    \"street\",\n",
    "    \"neighbourhood\",\n",
    "    \"neighbourhood_cleansed\",\n",
    "    \"city\",\n",
    "    \"state\",\n",
    "    \"zipcode\",\n",
    "    \"smart_location\",\n",
    "    \"is_location_exact\"\n",
    "]\n",
    "listings_df.drop(columns_to_drop, axis=1, inplace=True)"
   ]
  },
  {
   "cell_type": "code",
   "execution_count": 536,
   "metadata": {},
   "outputs": [
    {
     "data": {
      "text/plain": [
       "market                    0.279354\n",
       "beds                      0.177368\n",
       "bathrooms                 0.141894\n",
       "host_identity_verified    0.115289\n",
       "host_is_superhost         0.115289\n",
       "bedrooms                  0.079816\n",
       "dtype: float64"
      ]
     },
     "execution_count": 536,
     "metadata": {},
     "output_type": "execute_result"
    }
   ],
   "source": [
    "100 * (listings_df.isnull().sum()[(listings_df.isnull().sum() > 0)] / len(listings_df)).sort_values(ascending=False)"
   ]
  },
  {
   "cell_type": "code",
   "execution_count": 537,
   "metadata": {},
   "outputs": [
    {
     "data": {
      "text/plain": [
       "Berlin                   22483\n",
       "Other (International)        2\n",
       "Zurich                       1\n",
       "Leipzig                      1\n",
       "Juarez                       1\n",
       "New York                     1\n",
       "Name: market, dtype: int64"
      ]
     },
     "execution_count": 537,
     "metadata": {},
     "output_type": "execute_result"
    }
   ],
   "source": [
    "listings_df[\"market\"].value_counts()"
   ]
  },
  {
   "cell_type": "markdown",
   "metadata": {},
   "source": [
    "Upon inspection market seems to be not of any use and where the market is not Berlin the address is still in Berlin, so I will remove this column."
   ]
  },
  {
   "cell_type": "code",
   "execution_count": 538,
   "metadata": {},
   "outputs": [],
   "source": [
    "listings_df.drop(\"market\", axis=1, inplace=True)"
   ]
  },
  {
   "cell_type": "markdown",
   "metadata": {},
   "source": [
    "Looking at the correlation with beds to see how it can be filled"
   ]
  },
  {
   "cell_type": "code",
   "execution_count": 539,
   "metadata": {},
   "outputs": [
    {
     "data": {
      "text/plain": [
       "accommodates                      0.790560\n",
       "bedrooms                          0.613366\n",
       "guests_included                   0.444461\n",
       "bathrooms                         0.269561\n",
       "calculated_host_listings_count    0.219973\n",
       "availability_365                  0.192285\n",
       "price                             0.100805\n",
       "latitude                          0.013142\n",
       "longitude                        -0.011911\n",
       "Name: beds, dtype: float64"
      ]
     },
     "execution_count": 539,
     "metadata": {},
     "output_type": "execute_result"
    }
   ],
   "source": [
    "listings_df.corr()[\"beds\"].sort_values(ascending=False)[1:]"
   ]
  },
  {
   "cell_type": "markdown",
   "metadata": {},
   "source": [
    "There is a high correlation with accomodates, so we could use this value to fill in the missing values"
   ]
  },
  {
   "cell_type": "code",
   "execution_count": 540,
   "metadata": {},
   "outputs": [
    {
     "data": {
      "text/plain": [
       "<seaborn.axisgrid.JointGrid at 0x13b781550>"
      ]
     },
     "execution_count": 540,
     "metadata": {},
     "output_type": "execute_result"
    },
    {
     "data": {
      "text/plain": [
       "<Figure size 864x432 with 0 Axes>"
      ]
     },
     "metadata": {},
     "output_type": "display_data"
    },
    {
     "data": {
      "image/png": "[encoded data removed]",
      "text/plain": [
       "<Figure size 432x432 with 3 Axes>"
      ]
     },
     "metadata": {},
     "output_type": "display_data"
    }
   ],
   "source": [
    "beds_accom_df = listings_df[[\"accommodates\", \"beds\"]].dropna()\n",
    "plt.figure(figsize=(12,6))\n",
    "sns.jointplot(data=beds_accom_df, x=\"beds\", y=\"accommodates\", kind=\"hex\", joint_kws={'gridsize':10})"
   ]
  },
  {
   "cell_type": "markdown",
   "metadata": {},
   "source": [
    "Filling the missing beds values using the mean beds for each value of accomodates"
   ]
  },
  {
   "cell_type": "code",
   "execution_count": 541,
   "metadata": {},
   "outputs": [],
   "source": [
    "beds_averages = beds_accom_df.groupby(\"accommodates\").mean().to_numpy().flatten()\n",
    "listings_df[\"beds\"] = listings_df.apply(\n",
    "    lambda row: beds_averages[row[\"accommodates\"]-1] if np.isnan(row[\"beds\"]) else row[\"beds\"], axis=1\n",
    ")"
   ]
  },
  {
   "cell_type": "markdown",
   "metadata": {},
   "source": [
    "Dealing with the missing bedroom values"
   ]
  },
  {
   "cell_type": "code",
   "execution_count": 542,
   "metadata": {},
   "outputs": [
    {
     "data": {
      "text/plain": [
       "accommodates                      0.629575\n",
       "beds                              0.613353\n",
       "guests_included                   0.382306\n",
       "bathrooms                         0.321342\n",
       "price                             0.113095\n",
       "availability_365                  0.075560\n",
       "calculated_host_listings_count    0.043044\n",
       "latitude                          0.009391\n",
       "longitude                        -0.007163\n",
       "Name: bedrooms, dtype: float64"
      ]
     },
     "execution_count": 542,
     "metadata": {},
     "output_type": "execute_result"
    }
   ],
   "source": [
    "listings_df.corr()[\"bedrooms\"].sort_values(ascending=False)[1:]"
   ]
  },
  {
   "cell_type": "markdown",
   "metadata": {},
   "source": [
    "We see that accommodates and bedrooms have a high correlation and so we can use this to estimate the number of bedrooms"
   ]
  },
  {
   "cell_type": "code",
   "execution_count": 543,
   "metadata": {},
   "outputs": [],
   "source": [
    "bedrooms_accom_df = listings_df[[\"accommodates\", \"bedrooms\"]].dropna()\n",
    "bedrooms_averages = bedrooms_accom_df.groupby(\"accommodates\").mean().to_numpy().flatten()\n",
    "listings_df[\"bedrooms\"] = listings_df.apply(\n",
    "    lambda row: beds_averages[row[\"accommodates\"]-1] if np.isnan(row[\"bedrooms\"]) else row[\"bedrooms\"], axis=1\n",
    ")"
   ]
  },
  {
   "cell_type": "markdown",
   "metadata": {},
   "source": [
    "Checking with columns still have null values"
   ]
  },
  {
   "cell_type": "code",
   "execution_count": 544,
   "metadata": {},
   "outputs": [
    {
     "data": {
      "text/plain": [
       "bathrooms                 0.141894\n",
       "host_identity_verified    0.115289\n",
       "host_is_superhost         0.115289\n",
       "dtype: float64"
      ]
     },
     "execution_count": 544,
     "metadata": {},
     "output_type": "execute_result"
    }
   ],
   "source": [
    "100 * (listings_df.isnull().sum()[(listings_df.isnull().sum() > 0)] / len(listings_df)).sort_values(ascending=False)"
   ]
  },
  {
   "cell_type": "code",
   "execution_count": 545,
   "metadata": {},
   "outputs": [
    {
     "name": "stdout",
     "output_type": "stream",
     "text": [
      "f    19515\n",
      "t     3011\n",
      "Name: host_is_superhost, dtype: int64\n",
      "f    13824\n",
      "t     8702\n",
      "Name: host_identity_verified, dtype: int64\n"
     ]
    }
   ],
   "source": [
    "print(listings_df[\"host_is_superhost\"].value_counts())\n",
    "print(listings_df[\"host_identity_verified\"].value_counts())"
   ]
  },
  {
   "cell_type": "markdown",
   "metadata": {},
   "source": [
    "We will fill in both the host_is_superhost and host_identity_verified missing values with the most common value for each column, which is false for both"
   ]
  },
  {
   "cell_type": "code",
   "execution_count": 546,
   "metadata": {},
   "outputs": [],
   "source": [
    "host_null_columns = [\"host_is_superhost\", \"host_identity_verified\"]\n",
    "listings_df[host_null_columns] = listings_df[host_null_columns].fillna(\"f\")"
   ]
  },
  {
   "cell_type": "markdown",
   "metadata": {},
   "source": [
    "Now convert the values to boolean"
   ]
  },
  {
   "cell_type": "code",
   "execution_count": 547,
   "metadata": {},
   "outputs": [],
   "source": [
    "for host_column in host_null_columns:\n",
    "    listings_df[host_column].map({'t': True, 'f': False})"
   ]
  },
  {
   "cell_type": "markdown",
   "metadata": {},
   "source": [
    "Dealing with bathroom missing values"
   ]
  },
  {
   "cell_type": "code",
   "execution_count": 548,
   "metadata": {},
   "outputs": [
    {
     "data": {
      "text/plain": [
       "1.0    19807\n",
       "2.0     1269\n",
       "1.5     1146\n",
       "0.5      104\n",
       "2.5       74\n",
       "3.0       50\n",
       "0.0       41\n",
       "4.0       12\n",
       "3.5        3\n",
       "8.5        3\n",
       "7.0        3\n",
       "7.5        2\n",
       "5.0        2\n",
       "8.0        2\n",
       "4.5        1\n",
       "6.0        1\n",
       "Name: bathrooms, dtype: int64"
      ]
     },
     "execution_count": 548,
     "metadata": {},
     "output_type": "execute_result"
    }
   ],
   "source": [
    "listings_df[\"bathrooms\"].value_counts()"
   ]
  },
  {
   "cell_type": "markdown",
   "metadata": {},
   "source": [
    "Checking what kind of property the missing values are from"
   ]
  },
  {
   "cell_type": "code",
   "execution_count": 549,
   "metadata": {},
   "outputs": [
    {
     "data": {
      "text/plain": [
       "Apartment            30\n",
       "Camper/RV             1\n",
       "Bed and breakfast     1\n",
       "Name: property_type, dtype: int64"
      ]
     },
     "execution_count": 549,
     "metadata": {},
     "output_type": "execute_result"
    }
   ],
   "source": [
    "listings_df[listings_df[\"bathrooms\"].isnull()][\"property_type\"].value_counts()"
   ]
  },
  {
   "cell_type": "markdown",
   "metadata": {},
   "source": [
    "Checking the correlations with bathrooms"
   ]
  },
  {
   "cell_type": "code",
   "execution_count": 550,
   "metadata": {},
   "outputs": [
    {
     "data": {
      "text/plain": [
       "bedrooms                          0.321199\n",
       "beds                              0.269456\n",
       "accommodates                      0.260085\n",
       "guests_included                   0.177625\n",
       "price                             0.067586\n",
       "calculated_host_listings_count    0.044946\n",
       "availability_365                  0.040982\n",
       "latitude                         -0.002271\n",
       "longitude                        -0.009384\n",
       "Name: bathrooms, dtype: float64"
      ]
     },
     "execution_count": 550,
     "metadata": {},
     "output_type": "execute_result"
    }
   ],
   "source": [
    "listings_df.corr()[\"bathrooms\"].sort_values(ascending=False)[1:]"
   ]
  },
  {
   "cell_type": "code",
   "execution_count": 551,
   "metadata": {},
   "outputs": [
    {
     "data": {
      "text/plain": [
       "1.0    28\n",
       "2.0     4\n",
       "Name: bedrooms, dtype: int64"
      ]
     },
     "execution_count": 551,
     "metadata": {},
     "output_type": "execute_result"
    }
   ],
   "source": [
    "listings_df[listings_df[\"bathrooms\"].isnull()][\"bedrooms\"].value_counts()"
   ]
  },
  {
   "cell_type": "code",
   "execution_count": 552,
   "metadata": {},
   "outputs": [
    {
     "data": {
      "text/plain": [
       "bedrooms\n",
       "0.000000     1.020988\n",
       "1.000000     1.063784\n",
       "1.049890     1.166667\n",
       "1.150303     1.000000\n",
       "1.805231     1.000000\n",
       "2.000000     1.146346\n",
       "2.252491     1.000000\n",
       "3.000000     1.444675\n",
       "4.000000     1.835664\n",
       "5.000000     2.176471\n",
       "6.000000     2.800000\n",
       "7.000000     4.500000\n",
       "8.000000     3.500000\n",
       "9.000000     3.000000\n",
       "10.000000    2.000000\n",
       "12.000000    7.000000\n",
       "Name: bathrooms, dtype: float64"
      ]
     },
     "execution_count": 552,
     "metadata": {},
     "output_type": "execute_result"
    }
   ],
   "source": [
    "listings_df.groupby(\"bedrooms\").mean()[\"bathrooms\"]"
   ]
  },
  {
   "cell_type": "markdown",
   "metadata": {},
   "source": [
    "I think it is an adequate assumption that the missing values can be approximated as 1, which is by far the most common value. "
   ]
  },
  {
   "cell_type": "code",
   "execution_count": 553,
   "metadata": {},
   "outputs": [],
   "source": [
    "listings_df[\"bathrooms\"] = listings_df[\"bathrooms\"].fillna(1)"
   ]
  },
  {
   "cell_type": "markdown",
   "metadata": {},
   "source": [
    "Checking if there is any other missing values"
   ]
  },
  {
   "cell_type": "code",
   "execution_count": 554,
   "metadata": {},
   "outputs": [
    {
     "data": {
      "text/plain": [
       "Series([], dtype: float64)"
      ]
     },
     "execution_count": 554,
     "metadata": {},
     "output_type": "execute_result"
    }
   ],
   "source": [
    "100 * (listings_df.isnull().sum()[(listings_df.isnull().sum() > 0)] / len(listings_df)).sort_values(ascending=False)"
   ]
  },
  {
   "cell_type": "markdown",
   "metadata": {},
   "source": [
    "Now we have dealt with all our missing values we can further analyse our data"
   ]
  },
  {
   "cell_type": "markdown",
   "metadata": {},
   "source": [
    "Feature engineer distance from landmarks/centre"
   ]
  },
  {
   "cell_type": "code",
   "execution_count": 555,
   "metadata": {},
   "outputs": [],
   "source": [
    "def longlat_to_km(origin, destination):\n",
    "    \"\"\"\n",
    "    Function that computes the distance between two (lat, long) points.\n",
    "    \"\"\"\n",
    "    radius = 6371 # km\n",
    "    lat1, long1 = origin\n",
    "    lat2, long2 = destination\n",
    "    \n",
    "    dlat = radians(lat2 - lat1)\n",
    "    dlong = radians(long2 - long1)\n",
    "    \n",
    "    a = sin(dlat / 2)**2 + cos(radians(lat1)) * cos(radians(lat2)) * sin(dlong / 2)**2\n",
    "    c = 2 * atan2(sqrt(a), sqrt(1 - a))\n",
    "    distance = radius * c\n",
    "\n",
    "    return distance"
   ]
  },
  {
   "cell_type": "code",
   "execution_count": 556,
   "metadata": {},
   "outputs": [],
   "source": [
    "berlin_centre = (52.5200, 13.4050) # Coordinates found from google\n",
    "listings_df[\"distance_from_centre\"] = listings_df.apply(\n",
    "    lambda listing: longlat_to_km((listing[\"latitude\"], listing[\"longitude\"]), berlin_centre), axis=1\n",
    ")"
   ]
  },
  {
   "cell_type": "markdown",
   "metadata": {},
   "source": [
    "Drop the latitude and longitude columns now we have computed the distance from the centre in km"
   ]
  },
  {
   "cell_type": "code",
   "execution_count": 557,
   "metadata": {},
   "outputs": [],
   "source": [
    "listings_df.drop([\"latitude\", \"longitude\"], axis=1, inplace=True)"
   ]
  },
  {
   "cell_type": "markdown",
   "metadata": {},
   "source": [
    "Describe the distance from centre "
   ]
  },
  {
   "cell_type": "code",
   "execution_count": 558,
   "metadata": {},
   "outputs": [
    {
     "data": {
      "text/plain": [
       "count    22552.000000\n",
       "mean         4.566539\n",
       "std          2.751345\n",
       "min          0.058689\n",
       "25%          2.996943\n",
       "50%          4.093354\n",
       "75%          5.410169\n",
       "max         25.674199\n",
       "Name: distance_from_centre, dtype: float64"
      ]
     },
     "execution_count": 558,
     "metadata": {},
     "output_type": "execute_result"
    }
   ],
   "source": [
    "listings_df[\"distance_from_centre\"].describe()"
   ]
  },
  {
   "cell_type": "code",
   "execution_count": 559,
   "metadata": {},
   "outputs": [
    {
     "data": {
      "text/plain": [
       "<matplotlib.axes._subplots.AxesSubplot at 0x132cbf2e8>"
      ]
     },
     "execution_count": 559,
     "metadata": {},
     "output_type": "execute_result"
    },
    {
     "data": {
      "image/png": "[encoded data removed]",
      "text/plain": [
       "<Figure size 864x432 with 1 Axes>"
      ]
     },
     "metadata": {},
     "output_type": "display_data"
    }
   ],
   "source": [
    "plt.figure(figsize=(12,6))\n",
    "sns.distplot(listings_df[\"distance_from_centre\"])"
   ]
  },
  {
   "cell_type": "markdown",
   "metadata": {},
   "source": [
    "Looking at the correlation between distance from the centre and price"
   ]
  },
  {
   "cell_type": "code",
   "execution_count": 560,
   "metadata": {},
   "outputs": [
    {
     "data": {
      "text/plain": [
       "<matplotlib.axes._subplots.AxesSubplot at 0x140b9dcf8>"
      ]
     },
     "execution_count": 560,
     "metadata": {},
     "output_type": "execute_result"
    },
    {
     "data": {
      "image/png": "[encoded data removed]",
      "text/plain": [
       "<Figure size 864x432 with 1 Axes>"
      ]
     },
     "metadata": {},
     "output_type": "display_data"
    }
   ],
   "source": [
    "plt.figure(figsize=(12,6))\n",
    "sns.scatterplot(data=listings_df, x=\"distance_from_centre\", y=\"price\")"
   ]
  },
  {
   "cell_type": "markdown",
   "metadata": {},
   "source": [
    "Analysing the host verifications column"
   ]
  },
  {
   "cell_type": "code",
   "execution_count": 561,
   "metadata": {},
   "outputs": [
    {
     "data": {
      "text/plain": [
       "count                             22552\n",
       "unique                              301\n",
       "top       ['email', 'phone', 'reviews']\n",
       "freq                               4103\n",
       "Name: host_verifications, dtype: object"
      ]
     },
     "execution_count": 561,
     "metadata": {},
     "output_type": "execute_result"
    }
   ],
   "source": [
    "listings_df[\"host_verifications\"].describe()"
   ]
  },
  {
   "cell_type": "markdown",
   "metadata": {},
   "source": [
    "Removing the host verifications column as looks to need a fair ammount of feature engineering"
   ]
  },
  {
   "cell_type": "code",
   "execution_count": 562,
   "metadata": {},
   "outputs": [],
   "source": [
    "listings_df.drop(\"host_verifications\", axis=1, inplace=True)"
   ]
  },
  {
   "cell_type": "markdown",
   "metadata": {},
   "source": [
    "Analysing the host columns"
   ]
  },
  {
   "cell_type": "code",
   "execution_count": 563,
   "metadata": {},
   "outputs": [
    {
     "data": {
      "text/html": [
       "<div>\n",
       "<style scoped>\n",
       "    .dataframe tbody tr th:only-of-type {\n",
       "        vertical-align: middle;\n",
       "    }\n",
       "\n",
       "    .dataframe tbody tr th {\n",
       "        vertical-align: top;\n",
       "    }\n",
       "\n",
       "    .dataframe thead th {\n",
       "        text-align: right;\n",
       "    }\n",
       "</style>\n",
       "<table border=\"1\" class=\"dataframe\">\n",
       "  <thead>\n",
       "    <tr style=\"text-align: right;\">\n",
       "      <th></th>\n",
       "      <th>host_identity_verified</th>\n",
       "      <th>host_is_superhost</th>\n",
       "    </tr>\n",
       "  </thead>\n",
       "  <tbody>\n",
       "    <tr>\n",
       "      <th>count</th>\n",
       "      <td>22552</td>\n",
       "      <td>22552</td>\n",
       "    </tr>\n",
       "    <tr>\n",
       "      <th>unique</th>\n",
       "      <td>2</td>\n",
       "      <td>2</td>\n",
       "    </tr>\n",
       "    <tr>\n",
       "      <th>top</th>\n",
       "      <td>f</td>\n",
       "      <td>f</td>\n",
       "    </tr>\n",
       "    <tr>\n",
       "      <th>freq</th>\n",
       "      <td>13850</td>\n",
       "      <td>19541</td>\n",
       "    </tr>\n",
       "  </tbody>\n",
       "</table>\n",
       "</div>"
      ],
      "text/plain": [
       "       host_identity_verified host_is_superhost\n",
       "count                   22552             22552\n",
       "unique                      2                 2\n",
       "top                         f                 f\n",
       "freq                    13850             19541"
      ]
     },
     "execution_count": 563,
     "metadata": {},
     "output_type": "execute_result"
    }
   ],
   "source": [
    "listings_df[[\"host_identity_verified\", \"host_is_superhost\"]].describe()"
   ]
  },
  {
   "cell_type": "markdown",
   "metadata": {},
   "source": [
    "Converting host columns to int"
   ]
  },
  {
   "cell_type": "code",
   "execution_count": 564,
   "metadata": {},
   "outputs": [],
   "source": [
    "listings_df[\"host_identity_verified\"] = listings_df[\"host_identity_verified\"].map({'t': 1, 'f': 0})\n",
    "listings_df[\"host_is_superhost\"] = listings_df[\"host_is_superhost\"].map({'t': 1, 'f': 0})"
   ]
  },
  {
   "cell_type": "markdown",
   "metadata": {},
   "source": [
    "Analysing the property type"
   ]
  },
  {
   "cell_type": "code",
   "execution_count": 565,
   "metadata": {},
   "outputs": [
    {
     "data": {
      "text/plain": [
       "33"
      ]
     },
     "execution_count": 565,
     "metadata": {},
     "output_type": "execute_result"
    }
   ],
   "source": [
    "listings_df[\"property_type\"].nunique()"
   ]
  },
  {
   "cell_type": "code",
   "execution_count": 566,
   "metadata": {},
   "outputs": [
    {
     "data": {
      "text/plain": [
       "property_type\n",
       "Apartment                 20225\n",
       "Condominium                 612\n",
       "Loft                        460\n",
       "House                       398\n",
       "Serviced apartment          175\n",
       "Hostel                      128\n",
       "Townhouse                    99\n",
       "Guest suite                  74\n",
       "Bed and breakfast            64\n",
       "Guesthouse                   57\n",
       "Hotel                        50\n",
       "Other                        47\n",
       "Boutique hotel               43\n",
       "Bungalow                     20\n",
       "Boat                         17\n",
       "Tiny house                   12\n",
       "Houseboat                    11\n",
       "Camper/RV                    11\n",
       "Villa                        10\n",
       "Pension (South Korea)         7\n",
       "Aparthotel                    7\n",
       "Cabin                         6\n",
       "Cottage                       4\n",
       "Resort                        3\n",
       "Castle                        2\n",
       "Casa particular (Cuba)        2\n",
       "Train                         2\n",
       "Chalet                        1\n",
       "Cave                          1\n",
       "In-law                        1\n",
       "Island                        1\n",
       "Barn                          1\n",
       "Tipi                          1\n",
       "Name: price, dtype: int64"
      ]
     },
     "execution_count": 566,
     "metadata": {},
     "output_type": "execute_result"
    }
   ],
   "source": [
    "listings_df.groupby(\"property_type\").count()[\"price\"].sort_values(ascending=False)"
   ]
  },
  {
   "cell_type": "markdown",
   "metadata": {},
   "source": [
    "There are a lot of property types with very few listings, I think I should try combine related columns.\n",
    "\n",
    "Thoughts:\n",
    "\n",
    "- Combine House, Townhouse and Guest House.\n",
    "- Combine Hotel and Boutique Hotel.\n",
    "- Anything less than 50 occurances combine with other."
   ]
  },
  {
   "cell_type": "code",
   "execution_count": 567,
   "metadata": {},
   "outputs": [],
   "source": [
    "property_map = {\n",
    "    'Townhouse': \"House\",\n",
    "    'Guesthouse': \"House\",\n",
    "    'Boutique hotel': \"Hotel\"\n",
    "}\n",
    "listings_df[\"property_type\"] = listings_df[\"property_type\"].apply(lambda x: property_map.get(x, x))"
   ]
  },
  {
   "cell_type": "code",
   "execution_count": 568,
   "metadata": {},
   "outputs": [],
   "source": [
    "other_properties = (listings_df[\"property_type\"].value_counts() < 50)\n",
    "listings_df[\"property_type\"] = listings_df[\"property_type\"].apply(lambda x: \"Other Property Type\" if other_properties.loc[x] else x)"
   ]
  },
  {
   "cell_type": "markdown",
   "metadata": {},
   "source": [
    "Describing the property type data"
   ]
  },
  {
   "cell_type": "code",
   "execution_count": 569,
   "metadata": {},
   "outputs": [
    {
     "data": {
      "text/plain": [
       "Apartment              20225\n",
       "Condominium              612\n",
       "House                    554\n",
       "Loft                     460\n",
       "Serviced apartment       175\n",
       "Other Property Type      167\n",
       "Hostel                   128\n",
       "Hotel                     93\n",
       "Guest suite               74\n",
       "Bed and breakfast         64\n",
       "Name: property_type, dtype: int64"
      ]
     },
     "execution_count": 569,
     "metadata": {},
     "output_type": "execute_result"
    }
   ],
   "source": [
    "listings_df[\"property_type\"].value_counts()"
   ]
  },
  {
   "cell_type": "code",
   "execution_count": 570,
   "metadata": {},
   "outputs": [
    {
     "data": {
      "text/plain": [
       "Text(0.5, 0, 'Count')"
      ]
     },
     "execution_count": 570,
     "metadata": {},
     "output_type": "execute_result"
    },
    {
     "data": {
      "image/png": "[encoded data removed]",
      "text/plain": [
       "<Figure size 864x432 with 1 Axes>"
      ]
     },
     "metadata": {},
     "output_type": "display_data"
    }
   ],
   "source": [
    "plt.figure(figsize=(12,6))\n",
    "sns.barplot(x=listings_df[\"property_type\"].value_counts().values, y=listings_df[\"property_type\"].value_counts().index)\n",
    "plt.title(\"Counts of Property Type\")\n",
    "plt.ylabel(\"Property Type\")\n",
    "plt.xlabel(\"Count\")"
   ]
  },
  {
   "cell_type": "markdown",
   "metadata": {},
   "source": [
    "Let's analyse the bed type column"
   ]
  },
  {
   "cell_type": "code",
   "execution_count": 571,
   "metadata": {},
   "outputs": [
    {
     "data": {
      "text/plain": [
       "Real Bed         21766\n",
       "Pull-out Sofa      451\n",
       "Futon              240\n",
       "Couch               72\n",
       "Airbed              23\n",
       "Name: bed_type, dtype: int64"
      ]
     },
     "execution_count": 571,
     "metadata": {},
     "output_type": "execute_result"
    }
   ],
   "source": [
    "listings_df[\"bed_type\"].value_counts()"
   ]
  },
  {
   "cell_type": "markdown",
   "metadata": {},
   "source": [
    "We can transform into dummy variables later"
   ]
  },
  {
   "cell_type": "markdown",
   "metadata": {},
   "source": [
    "Drop other columns I don't want to use"
   ]
  },
  {
   "cell_type": "code",
   "execution_count": 572,
   "metadata": {},
   "outputs": [],
   "source": [
    "columns_to_drop = [\n",
    "    \"requires_license\",\n",
    "    \"instant_bookable\",\n",
    "    \"cancellation_policy\",\n",
    "    \"require_guest_profile_picture\",\n",
    "    \"require_guest_phone_verification\"\n",
    "]\n",
    "listings_df.drop(columns_to_drop, axis=1, inplace=True)"
   ]
  },
  {
   "cell_type": "code",
   "execution_count": 573,
   "metadata": {},
   "outputs": [
    {
     "name": "stdout",
     "output_type": "stream",
     "text": [
      "<class 'pandas.core.frame.DataFrame'>\n",
      "Int64Index: 22552 entries, 2015 to 29867352\n",
      "Data columns (total 16 columns):\n",
      "host_is_superhost                 22552 non-null int64\n",
      "host_identity_verified            22552 non-null int64\n",
      "neighbourhood_group_cleansed      22552 non-null object\n",
      "property_type                     22552 non-null object\n",
      "room_type                         22552 non-null object\n",
      "accommodates                      22552 non-null int64\n",
      "bathrooms                         22552 non-null float64\n",
      "bedrooms                          22552 non-null float64\n",
      "beds                              22552 non-null float64\n",
      "bed_type                          22552 non-null object\n",
      "amenities                         22552 non-null object\n",
      "price                             22552 non-null float64\n",
      "guests_included                   22552 non-null int64\n",
      "availability_365                  22552 non-null int64\n",
      "calculated_host_listings_count    22552 non-null int64\n",
      "distance_from_centre              22552 non-null float64\n",
      "dtypes: float64(5), int64(6), object(5)\n",
      "memory usage: 2.9+ MB\n"
     ]
    }
   ],
   "source": [
    "listings_df.info()"
   ]
  },
  {
   "cell_type": "markdown",
   "metadata": {},
   "source": [
    "Now let's look at the amenities column.\n",
    "First lets remove unwanted characters from our amenities string."
   ]
  },
  {
   "cell_type": "code",
   "execution_count": 574,
   "metadata": {},
   "outputs": [],
   "source": [
    "def remove_characters(string, characters):\n",
    "    \"\"\"\n",
    "    Function that removes all instances of characters from a string.\n",
    "    Characters must be a string only containing the characters that should be removed.\n",
    "    \"\"\"\n",
    "    translation_table = dict.fromkeys(map(ord, characters), None)\n",
    "    clean_string = string.translate(translation_table)\n",
    "    return clean_string"
   ]
  },
  {
   "cell_type": "code",
   "execution_count": 575,
   "metadata": {},
   "outputs": [],
   "source": [
    "listings_df[\"amenities\"] = listings_df[\"amenities\"].apply(lambda x: set(remove_characters(x, '{}\"').split(\",\")))"
   ]
  },
  {
   "cell_type": "markdown",
   "metadata": {},
   "source": [
    "Creating a number of amenities column"
   ]
  },
  {
   "cell_type": "code",
   "execution_count": 576,
   "metadata": {},
   "outputs": [],
   "source": [
    "listings_df[\"number_of_amenities\"] = listings_df[\"amenities\"].apply(lambda x: len(x))"
   ]
  },
  {
   "cell_type": "markdown",
   "metadata": {},
   "source": [
    "Creating a counter object of the amenities"
   ]
  },
  {
   "cell_type": "code",
   "execution_count": 577,
   "metadata": {},
   "outputs": [],
   "source": [
    "amenities_counter = Counter()\n",
    "amenities_col_index = listings_df.columns.get_loc(\"amenities\")\n",
    "for listing in listings_df.values:\n",
    "    amenities_counter.update(listing[amenities_col_index])"
   ]
  },
  {
   "cell_type": "code",
   "execution_count": 578,
   "metadata": {},
   "outputs": [
    {
     "data": {
      "text/plain": [
       "[('Wifi', 95.38843561546648),\n",
       " ('Kitchen', 94.5902802412203),\n",
       " ('Heating', 93.96062433487053),\n",
       " ('Essentials', 90.1427811280596),\n",
       " ('Washer', 82.01933309684286),\n",
       " ('Hair dryer', 66.02962043277758),\n",
       " ('Laptop friendly workspace', 64.06083717630365),\n",
       " ('Hangers', 61.67080525008869),\n",
       " ('Iron', 49.689606243348706),\n",
       " ('Shampoo', 47.24192976232707),\n",
       " ('TV', 44.77651649521107),\n",
       " ('Hot water', 43.20681092586023),\n",
       " ('Family/kid friendly', 36.09879389854559),\n",
       " ('Internet', 35.07006030507272),\n",
       " ('Host greets you', 29.545051436679675),\n",
       " ('Smoke detector', 28.63160695282015),\n",
       " ('Buzzer/wireless intercom', 27.119545938275984),\n",
       " ('Lock on bedroom door', 23.474636395885064),\n",
       " ('Refrigerator', 23.111032280950692),\n",
       " ('Free street parking', 23.013479957431713),\n",
       " ('Dishes and silverware', 22.534586732884),\n",
       " ('Elevator', 21.581234480312165),\n",
       " ('Bed linens', 21.47037956722242),\n",
       " ('Cooking basics', 21.434905995033702),\n",
       " ('Stove', 21.35509045760908),\n",
       " ('Smoking allowed', 20.34852784675417),\n",
       " ('Oven', 19.120255409719757),\n",
       " ('translation missing: en.hosting_amenity_50', 18.552678254700247),\n",
       " ('First aid kit', 17.785562256119192),\n",
       " ('Cable TV', 16.517382050372472),\n",
       " ('Coffee maker', 16.167080525008867),\n",
       " ('Dryer', 14.943242284498048),\n",
       " ('Dishwasher', 14.056402979780064),\n",
       " ('translation missing: en.hosting_amenity_49', 13.883469315360056),\n",
       " ('Long term stays allowed', 13.803653777935438),\n",
       " ('Pets allowed', 13.768180205746718),\n",
       " ('Fire extinguisher', 13.52429939694927),\n",
       " ('Luggage dropoff allowed', 12.562078751330258),\n",
       " ('Private entrance', 11.236253990776872),\n",
       " ('Extra pillows and blankets', 11.200780418588153),\n",
       " ('Patio or balcony', 10.7396239801348),\n",
       " ('Microwave', 10.05232351897836),\n",
       " ('Free parking on premises', 9.48031216743526),\n",
       " ('Safety card', 9.462575381340901),\n",
       " ('Paid parking off premises', 8.939340191557289),\n",
       " ('Private living room', 8.673288400141894),\n",
       " ('Bathtub', 7.409542390918765),\n",
       " ('Carbon monoxide detector', 6.7355445193330965),\n",
       " ('Other', 6.54930826534232),\n",
       " ('Breakfast', 6.021638879035119),\n",
       " ('24-hour check-in', 5.999467896417169),\n",
       " ('Children’s books and toys', 5.3875487761617595),\n",
       " ('Single level home', 5.36094359702022),\n",
       " ('Self check-in', 5.33877261440227),\n",
       " ('High chair', 5.303299042213551),\n",
       " ('Room-darkening shades', 4.673643135863782),\n",
       " ('Well-lit path to entrance', 4.487406881873005),\n",
       " ('Step-free access', 4.389854558354026),\n",
       " ('Pets live on this property', 4.132671159985811),\n",
       " ('Pack ’n Play/travel crib', 3.853316778999645),\n",
       " ('Wide doorway', 3.5650940049663),\n",
       " ('Garden or backyard', 3.383291947499113),\n",
       " ('Crib', 3.378857750975523),\n",
       " ('Wheelchair accessible', 3.046293011706279),\n",
       " ('Wide hallway clearance', 2.96647747428166),\n",
       " ('Handheld shower head', 2.846754168144732),\n",
       " ('Lockbox', 2.7713728272437033),\n",
       " ('Paid parking on premises', 2.7536360411493437),\n",
       " ('Indoor fireplace', 2.6427811280595956),\n",
       " ('Hot tub', 2.625044341965236),\n",
       " ('Wide clearance to bed', 2.607307555870876),\n",
       " ('Suitable for events', 2.496452642781128),\n",
       " ('Ethernet connection', 2.4698474636395886),\n",
       " ('Children’s dinnerware', 2.194927279177013),\n",
       " ('Flat path to front door', 2.1771904930826533),\n",
       " ('Accessible-height bed', 2.1018091521816245),\n",
       " ('Cleaning before checkout', 2.079638169563675),\n",
       " ('Cat(s)', 1.9865200425682867),\n",
       " ('Air conditioning', 1.7382050372472508),\n",
       " ('Wide entryway', 1.5918765519687832),\n",
       " ('BBQ grill', 1.5608371763036537),\n",
       " ('Building staff', 1.5031926214969846),\n",
       " ('Outlet covers', 1.4012061014544164),\n",
       " ('Dog(s)', 1.2504434196523588),\n",
       " ('Baby bath', 1.241575026605179),\n",
       " ('Changing table', 1.2016672578928698),\n",
       " ('Gym', 1.0908123448031217),\n",
       " ('Window guards', 1.0376019865200425),\n",
       " ('Game console', 0.9976942178077333),\n",
       " ('Babysitter recommendations', 0.9666548421426037),\n",
       " (' toilet', 0.9622206456190139),\n",
       " ('Wide clearance to shower', 0.9622206456190139),\n",
       " ('Waterfront', 0.8868393047179851),\n",
       " ('EV charger', 0.7493792124866975),\n",
       " ('Accessible-height toilet', 0.7006030507272082),\n",
       " ('Keypad', 0.6651294785384888),\n",
       " ('Pocket wifi', 0.536537779354381),\n",
       " ('Baby monitor', 0.47889322454771194),\n",
       " ('Lake access', 0.474459028024122),\n",
       " ('Disabled parking spot', 0.41681447321745296),\n",
       " ('Roll-in shower', 0.4035118836466832),\n",
       " ('Pool', 0.3769067045051437),\n",
       " ('Smart lock', 0.3636041149343739),\n",
       " ('Doorman', 0.35916991841078394),\n",
       " ('Hot water kettle', 0.33699893579283435),\n",
       " ('', 0.3325647392692444),\n",
       " ('Beach essentials', 0.3325647392692444),\n",
       " ('Stair gates', 0.30595956012770487),\n",
       " ('Other pet(s)', 0.2527492018446258),\n",
       " ('Fixed grab bars for shower', 0.1906704505143668),\n",
       " ('Table corner guards', 0.15519687832564738),\n",
       " ('Ski-in/Ski-out', 0.15076268180205746),\n",
       " ('Bathtub with bath chair', 0.12859169918410784),\n",
       " ('Full kitchen', 0.11528910961333806),\n",
       " ('Shower chair', 0.11085491308974814),\n",
       " ('Fireplace guards', 0.09755232351897836),\n",
       " ('Fixed grab bars for toilet', 0.0532103582830791),\n",
       " ('Ground floor access', 0.04877616175948918),\n",
       " ('Firm mattress', 0.03990776871230933),\n",
       " ('Washer / Dryer', 0.0354735721887194),\n",
       " ('Beachfront', 0.0354735721887194),\n",
       " ('Private bathroom', 0.0177367860943597),\n",
       " ('Electric profiling bed', 0.0177367860943597),\n",
       " ('Air purifier', 0.013302589570769775),\n",
       " ('Kitchenette', 0.013302589570769775),\n",
       " ('Toilet paper', 0.00886839304717985),\n",
       " ('Bath towel', 0.00886839304717985),\n",
       " ('Bedroom comforts', 0.00886839304717985),\n",
       " ('Bathroom essentials', 0.00886839304717985),\n",
       " ('Body soap', 0.00886839304717985),\n",
       " ('Convection oven', 0.004434196523589925),\n",
       " ('Smart TV', 0.004434196523589925),\n",
       " ('Sound system', 0.004434196523589925),\n",
       " ('Breakfast table', 0.004434196523589925),\n",
       " ('Netflix', 0.004434196523589925),\n",
       " ('Ceiling hoist', 0.004434196523589925)]"
      ]
     },
     "execution_count": 578,
     "metadata": {},
     "output_type": "execute_result"
    }
   ],
   "source": [
    "[(i, counter / len(listings_df) * 100) for i, counter in amenities_counter.most_common()]"
   ]
  },
  {
   "cell_type": "markdown",
   "metadata": {},
   "source": [
    "Creating variables from amenities and drop amenities column"
   ]
  },
  {
   "cell_type": "code",
   "execution_count": 579,
   "metadata": {},
   "outputs": [],
   "source": [
    "amenities_to_include = [\n",
    "    \"Wifi\",\n",
    "    \"Kitchen\",\n",
    "    \"Heating\",\n",
    "    \"Essentials\",\n",
    "    \"Washer\",\n",
    "    \"TV\",\n",
    "    \"Dryer\",\n",
    "    \"Dishwasher\",\n",
    "    \"Bathtub\",\n",
    "    \"Breakfast\",\n",
    "    \"Wheelchair accessible\",\n",
    "    \"Hot tub\",\n",
    "]\n",
    "for amenity in amenities_to_include:\n",
    "    listings_df[amenity] = listings_df[\"amenities\"].apply(lambda x: 1 if amenity in x else 0)\n",
    "listings_df.drop(\"amenities\", axis=1, inplace=True)"
   ]
  },
  {
   "cell_type": "markdown",
   "metadata": {},
   "source": [
    "Creating dummy variables from categorical columns"
   ]
  },
  {
   "cell_type": "code",
   "execution_count": 580,
   "metadata": {},
   "outputs": [],
   "source": [
    "categorical_columns = [\n",
    "    \"neighbourhood_group_cleansed\",\n",
    "    \"property_type\",\n",
    "    \"room_type\",\n",
    "    \"bed_type\"\n",
    "]\n",
    "for categorical_column in categorical_columns:\n",
    "    dummy_variables = pd.get_dummies(listings_df[categorical_column],drop_first=True)\n",
    "    listings_df = pd.concat([listings_df.drop(categorical_column, axis=1), dummy_variables], axis=1)"
   ]
  },
  {
   "cell_type": "markdown",
   "metadata": {},
   "source": [
    "Checking correlations between price and other columns"
   ]
  },
  {
   "cell_type": "code",
   "execution_count": 581,
   "metadata": {},
   "outputs": [
    {
     "name": "stdout",
     "output_type": "stream",
     "text": [
      "<class 'pandas.core.frame.DataFrame'>\n",
      "Int64Index: 22552 entries, 2015 to 29867352\n",
      "Data columns (total 50 columns):\n",
      "host_is_superhost                 22552 non-null int64\n",
      "host_identity_verified            22552 non-null int64\n",
      "accommodates                      22552 non-null int64\n",
      "bathrooms                         22552 non-null float64\n",
      "bedrooms                          22552 non-null float64\n",
      "beds                              22552 non-null float64\n",
      "price                             22552 non-null float64\n",
      "guests_included                   22552 non-null int64\n",
      "availability_365                  22552 non-null int64\n",
      "calculated_host_listings_count    22552 non-null int64\n",
      "distance_from_centre              22552 non-null float64\n",
      "number_of_amenities               22552 non-null int64\n",
      "Wifi                              22552 non-null int64\n",
      "Kitchen                           22552 non-null int64\n",
      "Heating                           22552 non-null int64\n",
      "Essentials                        22552 non-null int64\n",
      "Washer                            22552 non-null int64\n",
      "TV                                22552 non-null int64\n",
      "Dryer                             22552 non-null int64\n",
      "Dishwasher                        22552 non-null int64\n",
      "Bathtub                           22552 non-null int64\n",
      "Breakfast                         22552 non-null int64\n",
      "Wheelchair accessible             22552 non-null int64\n",
      "Hot tub                           22552 non-null int64\n",
      "Friedrichshain-Kreuzberg          22552 non-null uint8\n",
      "Lichtenberg                       22552 non-null uint8\n",
      "Marzahn - Hellersdorf             22552 non-null uint8\n",
      "Mitte                             22552 non-null uint8\n",
      "Neukölln                          22552 non-null uint8\n",
      "Pankow                            22552 non-null uint8\n",
      "Reinickendorf                     22552 non-null uint8\n",
      "Spandau                           22552 non-null uint8\n",
      "Steglitz - Zehlendorf             22552 non-null uint8\n",
      "Tempelhof - Schöneberg            22552 non-null uint8\n",
      "Treptow - Köpenick                22552 non-null uint8\n",
      "Bed and breakfast                 22552 non-null uint8\n",
      "Condominium                       22552 non-null uint8\n",
      "Guest suite                       22552 non-null uint8\n",
      "Hostel                            22552 non-null uint8\n",
      "Hotel                             22552 non-null uint8\n",
      "House                             22552 non-null uint8\n",
      "Loft                              22552 non-null uint8\n",
      "Other Property Type               22552 non-null uint8\n",
      "Serviced apartment                22552 non-null uint8\n",
      "Private room                      22552 non-null uint8\n",
      "Shared room                       22552 non-null uint8\n",
      "Couch                             22552 non-null uint8\n",
      "Futon                             22552 non-null uint8\n",
      "Pull-out Sofa                     22552 non-null uint8\n",
      "Real Bed                          22552 non-null uint8\n",
      "dtypes: float64(5), int64(19), uint8(26)\n",
      "memory usage: 4.9 MB\n"
     ]
    }
   ],
   "source": [
    "listings_df.info()"
   ]
  },
  {
   "cell_type": "code",
   "execution_count": 582,
   "metadata": {},
   "outputs": [
    {
     "data": {
      "text/plain": [
       "Hotel                             0.374493\n",
       "accommodates                      0.135563\n",
       "bedrooms                          0.113050\n",
       "availability_365                  0.105959\n",
       "guests_included                   0.102213\n",
       "beds                              0.100646\n",
       "TV                                0.084733\n",
       "calculated_host_listings_count    0.073244\n",
       "bathrooms                         0.067599\n",
       "number_of_amenities               0.048295\n",
       "Breakfast                         0.045697\n",
       "Serviced apartment                0.043577\n",
       "Dryer                             0.037420\n",
       "Tempelhof - Schöneberg            0.036422\n",
       "Loft                              0.034011\n",
       "Bathtub                           0.031566\n",
       "Hostel                            0.023946\n",
       "Dishwasher                        0.021604\n",
       "Real Bed                          0.012617\n",
       "Other Property Type               0.011743\n",
       "Wheelchair accessible             0.007842\n",
       "Essentials                        0.007021\n",
       "host_is_superhost                 0.006699\n",
       "Mitte                             0.005898\n",
       "Hot tub                           0.002117\n",
       "House                             0.001930\n",
       "Pankow                            0.001330\n",
       "Condominium                       0.000675\n",
       "Wifi                             -0.001022\n",
       "Couch                            -0.002660\n",
       "Spandau                          -0.003008\n",
       "Guest suite                      -0.003251\n",
       "Bed and breakfast                -0.003687\n",
       "Marzahn - Hellersdorf            -0.003832\n",
       "Pull-out Sofa                    -0.005798\n",
       "Steglitz - Zehlendorf            -0.006903\n",
       "Shared room                      -0.008157\n",
       "Lichtenberg                      -0.008883\n",
       "Reinickendorf                    -0.009020\n",
       "Treptow - Köpenick               -0.011156\n",
       "Futon                            -0.012569\n",
       "Friedrichshain-Kreuzberg         -0.016277\n",
       "distance_from_centre             -0.016503\n",
       "host_identity_verified           -0.020806\n",
       "Neukölln                         -0.040033\n",
       "Washer                           -0.059156\n",
       "Private room                     -0.068119\n",
       "Heating                          -0.087068\n",
       "Kitchen                          -0.096753\n",
       "Name: price, dtype: float64"
      ]
     },
     "execution_count": 582,
     "metadata": {},
     "output_type": "execute_result"
    }
   ],
   "source": [
    "listings_df.corr()[\"price\"].sort_values(ascending=False)[1:]"
   ]
  },
  {
   "cell_type": "code",
   "execution_count": null,
   "metadata": {},
   "outputs": [],
   "source": []
  }
 ],
 "metadata": {
  "kernelspec": {
   "display_name": "berlin_airbnb",
   "language": "python",
   "name": "berlin_airbnb"
  },
  "language_info": {
   "codemirror_mode": {
    "name": "ipython",
    "version": 3
   },
   "file_extension": ".py",
   "mimetype": "text/x-python",
   "name": "python",
   "nbconvert_exporter": "python",
   "pygments_lexer": "ipython3",
   "version": "3.7.3"
  }
 },
 "nbformat": 4,
 "nbformat_minor": 2
}
