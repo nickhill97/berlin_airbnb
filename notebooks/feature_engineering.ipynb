{
 "cells": [
  {
   "cell_type": "markdown",
   "metadata": {},
   "source": [
    "# Feature Engineering"
   ]
  },
  {
   "cell_type": "code",
   "execution_count": 1,
   "metadata": {},
   "outputs": [],
   "source": [
    "import numpy as np\n",
    "import pandas as pd\n",
    "\n",
    "import matplotlib.pyplot as plt\n",
    "%matplotlib inline\n",
    "import seaborn as sns\n",
    "\n",
    "from pathlib import Path\n",
    "import re\n",
    "from collections import Counter\n",
    "from math import sin, cos, sqrt, atan2, radians"
   ]
  },
  {
   "cell_type": "code",
   "execution_count": 11,
   "metadata": {},
   "outputs": [],
   "source": [
    "# Read in the data\n",
    "PROCESSED_PATH = Path('../data/processed/')\n",
    "listings = pd.read_csv(PROCESSED_PATH/'cleaned_listings.csv')"
   ]
  },
  {
   "cell_type": "markdown",
   "metadata": {},
   "source": [
    "In this file I will create new features from the existing ones. Features to create:\n",
    "\n",
    "1. Indicator variables:\n",
    "    - Neighbourhood overview\n",
    "    - Interaction\n",
    "    - House rules\n",
    "    - Transit\n",
    "1. Create a total price (price + cleaning fee) as another potential target variable.\n",
    "1. Distance from different landmarks.\n",
    "1. Amenities dummy variables and total number of amenities.\n",
    "1. Square feet from description.\n",
    "1. Investigate other features to see if any other information could be gained.\n",
    "\n",
    "## Indicator Variables"
   ]
  },
  {
   "cell_type": "code",
   "execution_count": 10,
   "metadata": {},
   "outputs": [],
   "source": [
    "def create_indicator_variable(dataframe, col):\n",
    "    indicator = dataframe[col].notnull().astype('int')\n",
    "    indicator.name = indicator.name + '_indicator'\n",
    "    \n",
    "    return pd.concat([dataframe, indicator], axis=1)"
   ]
  },
  {
   "cell_type": "code",
   "execution_count": 13,
   "metadata": {},
   "outputs": [],
   "source": [
    "indicator_cols = ['neighbourhood_overview', 'interaction', 'house_rules', 'transit']\n",
    "for col in indicator_cols:\n",
    "    listings = create_indicator_variable(listings, col)"
   ]
  },
  {
   "cell_type": "markdown",
   "metadata": {},
   "source": [
    "## Total Price"
   ]
  },
  {
   "cell_type": "code",
   "execution_count": 16,
   "metadata": {},
   "outputs": [],
   "source": [
    "listings['total_price'] = listings['price'] + listings['cleaning_fee']"
   ]
  },
  {
   "cell_type": "markdown",
   "metadata": {},
   "source": [
    "## Distance From Landmarks"
   ]
  },
  {
   "cell_type": "code",
   "execution_count": 17,
   "metadata": {},
   "outputs": [],
   "source": [
    "def longlat_to_km(origin, destination):\n",
    "    \"\"\"\n",
    "    Function that computes the distance between two (lat, long) points.\n",
    "    \"\"\"\n",
    "    radius = 6371 # km\n",
    "    lat1, long1 = origin\n",
    "    lat2, long2 = destination\n",
    "    \n",
    "    dlat = radians(lat2 - lat1)\n",
    "    dlong = radians(long2 - long1)\n",
    "    \n",
    "    a = sin(dlat / 2)**2 + cos(radians(lat1)) * cos(radians(lat2)) * sin(dlong / 2)**2\n",
    "    c = 2 * atan2(sqrt(a), sqrt(1 - a))\n",
    "    distance = radius * c\n",
    "\n",
    "    return distance"
   ]
  },
  {
   "cell_type": "code",
   "execution_count": 19,
   "metadata": {},
   "outputs": [],
   "source": [
    "landmarks = {\n",
    "    'Centre': (52.5200, 13.4050),\n",
    "    'Brandenburg_Gate': (52.516266, 13.377775),\n",
    "    'Berlin_Wall': (52.535152, 13.390206),\n",
    "    'Reichstag': (52.518589, 13.376665),\n",
    "    'Museum_Island': (52.516640, 13.402318),\n",
    "    'Central_Station': (52.524929, 13.369181),\n",
    "    'Telivision_Tower': (52.520817, 13.409419)\n",
    "} # Coordinates found from latlong.net\n",
    "for landmark, coordinates in landmarks.items():\n",
    "    listings[f'distance_from_{landmark}'] = listings.apply(\n",
    "        lambda listing: longlat_to_km((listing[\"latitude\"], listing[\"longitude\"]), coordinates), axis=1\n",
    "    )"
   ]
  },
  {
   "cell_type": "code",
   "execution_count": null,
   "metadata": {},
   "outputs": [],
   "source": []
  }
 ],
 "metadata": {
  "kernelspec": {
   "display_name": "berlin_airbnb",
   "language": "python",
   "name": "berlin_airbnb"
  },
  "language_info": {
   "codemirror_mode": {
    "name": "ipython",
    "version": 3
   },
   "file_extension": ".py",
   "mimetype": "text/x-python",
   "name": "python",
   "nbconvert_exporter": "python",
   "pygments_lexer": "ipython3",
   "version": "3.7.3"
  }
 },
 "nbformat": 4,
 "nbformat_minor": 2
}
