{
 "cells": [
  {
   "cell_type": "markdown",
   "metadata": {},
   "source": [
    "# Cleaning"
   ]
  },
  {
   "cell_type": "code",
   "execution_count": 140,
   "metadata": {},
   "outputs": [],
   "source": [
    "import numpy as np\n",
    "import pandas as pd\n",
    "\n",
    "from pathlib import Path\n",
    "import re"
   ]
  },
  {
   "cell_type": "markdown",
   "metadata": {},
   "source": [
    "In this file I will:\n",
    "\n",
    "1. Remove non-informative/unuseful columns.\n",
    "1. Convert the format of columns so they can be used in my model or feature engineering.\n",
    "1. Drop the outliers in the price column.\n",
    "1. Fill missing values.\n",
    "1. Relabel categorical data with a small amount of data in certain categories.\n",
    "1. Drop columns with missing values that can't be filled."
   ]
  },
  {
   "cell_type": "code",
   "execution_count": 141,
   "metadata": {},
   "outputs": [],
   "source": [
    "# Read in the data\n",
    "RAW_PATH = Path('../data/raw/')\n",
    "listings = pd.read_csv(RAW_PATH/'listings.csv')"
   ]
  },
  {
   "cell_type": "markdown",
   "metadata": {},
   "source": [
    "## Drop Non-informative/Unuseful Columns"
   ]
  },
  {
   "cell_type": "code",
   "execution_count": 142,
   "metadata": {},
   "outputs": [],
   "source": [
    "# List of keywords contained in non-informative columns\n",
    "keywords = ['host', 'scrape', 'url', 'review', 'availability', 'calendar', 'license', 'require', 'country']\n",
    "non_informative_cols = [\n",
    "    {column for column in listings.columns if keyword in column}\n",
    "    for keyword in keywords \n",
    "]\n",
    "non_inform_cols = {\n",
    "    'id',\n",
    "    'city',\n",
    "    'state',\n",
    "    'zipcode',\n",
    "    'street',\n",
    "    'market',\n",
    "    'smart_location',\n",
    "    'name',\n",
    "    'experiences_offered',\n",
    "    'is_business_travel_ready',\n",
    "    'security_deposit',\n",
    "    'jurisdiction_names',\n",
    "    'neighbourhood',\n",
    "    'weekly_price',\n",
    "    'monthly_price'\n",
    "}\n",
    "non_informative_cols = set().union(*non_informative_cols, non_inform_cols)\n",
    "listings = listings.drop(non_informative_cols, axis=1)"
   ]
  },
  {
   "cell_type": "code",
   "execution_count": 143,
   "metadata": {},
   "outputs": [
    {
     "name": "stdout",
     "output_type": "stream",
     "text": [
      "<class 'pandas.core.frame.DataFrame'>\n",
      "RangeIndex: 22552 entries, 0 to 22551\n",
      "Data columns (total 31 columns):\n",
      "summary                         21589 non-null object\n",
      "space                           14020 non-null object\n",
      "description                     22349 non-null object\n",
      "neighborhood_overview           11540 non-null object\n",
      "notes                           7215 non-null object\n",
      "transit                         13036 non-null object\n",
      "access                          10837 non-null object\n",
      "interaction                     10406 non-null object\n",
      "house_rules                     11449 non-null object\n",
      "neighbourhood_cleansed          22552 non-null object\n",
      "neighbourhood_group_cleansed    22552 non-null object\n",
      "latitude                        22552 non-null float64\n",
      "longitude                       22552 non-null float64\n",
      "is_location_exact               22552 non-null object\n",
      "property_type                   22552 non-null object\n",
      "room_type                       22552 non-null object\n",
      "accommodates                    22552 non-null int64\n",
      "bathrooms                       22520 non-null float64\n",
      "bedrooms                        22534 non-null float64\n",
      "beds                            22512 non-null float64\n",
      "bed_type                        22552 non-null object\n",
      "amenities                       22552 non-null object\n",
      "square_feet                     446 non-null float64\n",
      "price                           22552 non-null object\n",
      "cleaning_fee                    15406 non-null object\n",
      "guests_included                 22552 non-null int64\n",
      "extra_people                    22552 non-null object\n",
      "minimum_nights                  22552 non-null int64\n",
      "maximum_nights                  22552 non-null int64\n",
      "instant_bookable                22552 non-null object\n",
      "cancellation_policy             22552 non-null object\n",
      "dtypes: float64(6), int64(4), object(21)\n",
      "memory usage: 5.3+ MB\n"
     ]
    }
   ],
   "source": [
    "listings.info()"
   ]
  },
  {
   "cell_type": "markdown",
   "metadata": {},
   "source": [
    "## Convert Format of Columns\n",
    "\n",
    "We'll start by changing any currency columns to floats."
   ]
  },
  {
   "cell_type": "code",
   "execution_count": 144,
   "metadata": {},
   "outputs": [],
   "source": [
    "def price_to_float(price):\n",
    "    \"\"\"\n",
    "    Removes all charcters not digits or decimal points and converts to float.\n",
    "    \"\"\"\n",
    "    if price is np.nan:\n",
    "        return np.nan\n",
    "    return float(re.sub('[^\\d.]', '', price))"
   ]
  },
  {
   "cell_type": "code",
   "execution_count": 145,
   "metadata": {},
   "outputs": [],
   "source": [
    "currency_cols = ['price', 'cleaning_fee', 'extra_people']\n",
    "for col in currency_cols:\n",
    "    listings[col] = listings[col].apply(price_to_float)"
   ]
  },
  {
   "cell_type": "markdown",
   "metadata": {},
   "source": [
    "Now we will store the amenities as a set instead of a string."
   ]
  },
  {
   "cell_type": "code",
   "execution_count": 146,
   "metadata": {},
   "outputs": [],
   "source": [
    "listings['amenities'] = listings['amenities'].apply(lambda x: set(re.sub('[{}\"]', '', x).split(',')))"
   ]
  },
  {
   "cell_type": "markdown",
   "metadata": {},
   "source": [
    "Now we will convert any boolean columns to binary, 1 being true and 0 being false."
   ]
  },
  {
   "cell_type": "code",
   "execution_count": 147,
   "metadata": {},
   "outputs": [],
   "source": [
    "binary_cols = ['is_location_exact', 'instant_bookable']\n",
    "for col in binary_cols:\n",
    "    listings[col] = listings[col].map({'f': 0, 't': 1})"
   ]
  },
  {
   "cell_type": "markdown",
   "metadata": {},
   "source": [
    "For the cancellation policy it makes sense to encode the column using discrete values as the data is ordinal."
   ]
  },
  {
   "cell_type": "code",
   "execution_count": 148,
   "metadata": {},
   "outputs": [
    {
     "data": {
      "text/plain": [
       "flexible                       9102\n",
       "moderate                       7096\n",
       "strict_14_with_grace_period    6287\n",
       "super_strict_30                  53\n",
       "super_strict_60                  14\n",
       "Name: cancellation_policy, dtype: int64"
      ]
     },
     "execution_count": 148,
     "metadata": {},
     "output_type": "execute_result"
    }
   ],
   "source": [
    "listings['cancellation_policy'].value_counts()"
   ]
  },
  {
   "cell_type": "markdown",
   "metadata": {},
   "source": [
    "There is a clear order to the data so it can be encoded as follows."
   ]
  },
  {
   "cell_type": "code",
   "execution_count": 149,
   "metadata": {},
   "outputs": [],
   "source": [
    "cancellation_order = {\n",
    "    'flexible': 1,\n",
    "    'moderate': 2,\n",
    "    'strict_14_with_grace_period': 3,\n",
    "    'super_strict_30': 4,\n",
    "    'super_strict_60': 5,\n",
    "}\n",
    "listings['cancellation_policy'] = listings['cancellation_policy'].map(cancellation_order)"
   ]
  },
  {
   "cell_type": "markdown",
   "metadata": {},
   "source": [
    "## Drop Outliers From Price Column\n",
    "\n",
    "I have decided to drop any listings with a price greater than the mean of the prices + 2 standard deviations and also any listings that have a price of $0."
   ]
  },
  {
   "cell_type": "code",
   "execution_count": 150,
   "metadata": {},
   "outputs": [],
   "source": [
    "price_ulim = listings['price'].mean() + 2*listings['price'].std()\n",
    "listings = listings[(listings['price'] <= price_ulim) & (listings['price'] > 0)]"
   ]
  },
  {
   "cell_type": "markdown",
   "metadata": {},
   "source": [
    "## Fill Missing Values"
   ]
  },
  {
   "cell_type": "code",
   "execution_count": 151,
   "metadata": {},
   "outputs": [
    {
     "data": {
      "text/plain": [
       "summary                    937\n",
       "space                     8515\n",
       "description                202\n",
       "neighborhood_overview    10966\n",
       "notes                    15284\n",
       "transit                   9473\n",
       "access                   11665\n",
       "interaction              12121\n",
       "house_rules              11077\n",
       "bathrooms                   32\n",
       "bedrooms                    18\n",
       "beds                        38\n",
       "square_feet              22026\n",
       "cleaning_fee              7098\n",
       "dtype: int64"
      ]
     },
     "execution_count": 151,
     "metadata": {},
     "output_type": "execute_result"
    }
   ],
   "source": [
    "listings.isnull().sum()[listings.isnull().sum() != 0]"
   ]
  },
  {
   "cell_type": "markdown",
   "metadata": {},
   "source": [
    "I will fill values in bathrooms, bedrooms, beds, cleaning fee using information from the other columns. The other columns will be used in feature engineering and so can be left with missing values.\n",
    "\n",
    "### Bedrooms\n",
    "\n",
    "Let's look at the listings that are missing bedrooms information to see what we can learn."
   ]
  },
  {
   "cell_type": "code",
   "execution_count": 152,
   "metadata": {},
   "outputs": [
    {
     "data": {
      "text/html": [
       "<div>\n",
       "<style scoped>\n",
       "    .dataframe tbody tr th:only-of-type {\n",
       "        vertical-align: middle;\n",
       "    }\n",
       "\n",
       "    .dataframe tbody tr th {\n",
       "        vertical-align: top;\n",
       "    }\n",
       "\n",
       "    .dataframe thead th {\n",
       "        text-align: right;\n",
       "    }\n",
       "</style>\n",
       "<table border=\"1\" class=\"dataframe\">\n",
       "  <thead>\n",
       "    <tr style=\"text-align: right;\">\n",
       "      <th></th>\n",
       "      <th>property_type</th>\n",
       "      <th>room_type</th>\n",
       "      <th>accommodates</th>\n",
       "    </tr>\n",
       "  </thead>\n",
       "  <tbody>\n",
       "    <tr>\n",
       "      <th>10</th>\n",
       "      <td>Apartment</td>\n",
       "      <td>Entire home/apt</td>\n",
       "      <td>2</td>\n",
       "    </tr>\n",
       "    <tr>\n",
       "      <th>1396</th>\n",
       "      <td>Apartment</td>\n",
       "      <td>Entire home/apt</td>\n",
       "      <td>2</td>\n",
       "    </tr>\n",
       "    <tr>\n",
       "      <th>1608</th>\n",
       "      <td>Apartment</td>\n",
       "      <td>Entire home/apt</td>\n",
       "      <td>2</td>\n",
       "    </tr>\n",
       "    <tr>\n",
       "      <th>2235</th>\n",
       "      <td>Apartment</td>\n",
       "      <td>Entire home/apt</td>\n",
       "      <td>2</td>\n",
       "    </tr>\n",
       "    <tr>\n",
       "      <th>5118</th>\n",
       "      <td>Apartment</td>\n",
       "      <td>Entire home/apt</td>\n",
       "      <td>2</td>\n",
       "    </tr>\n",
       "    <tr>\n",
       "      <th>5203</th>\n",
       "      <td>Apartment</td>\n",
       "      <td>Entire home/apt</td>\n",
       "      <td>2</td>\n",
       "    </tr>\n",
       "    <tr>\n",
       "      <th>6197</th>\n",
       "      <td>Apartment</td>\n",
       "      <td>Entire home/apt</td>\n",
       "      <td>3</td>\n",
       "    </tr>\n",
       "    <tr>\n",
       "      <th>8257</th>\n",
       "      <td>Apartment</td>\n",
       "      <td>Entire home/apt</td>\n",
       "      <td>4</td>\n",
       "    </tr>\n",
       "    <tr>\n",
       "      <th>8294</th>\n",
       "      <td>Apartment</td>\n",
       "      <td>Entire home/apt</td>\n",
       "      <td>3</td>\n",
       "    </tr>\n",
       "    <tr>\n",
       "      <th>8638</th>\n",
       "      <td>Condominium</td>\n",
       "      <td>Entire home/apt</td>\n",
       "      <td>3</td>\n",
       "    </tr>\n",
       "    <tr>\n",
       "      <th>11938</th>\n",
       "      <td>Apartment</td>\n",
       "      <td>Private room</td>\n",
       "      <td>1</td>\n",
       "    </tr>\n",
       "    <tr>\n",
       "      <th>21259</th>\n",
       "      <td>Serviced apartment</td>\n",
       "      <td>Entire home/apt</td>\n",
       "      <td>1</td>\n",
       "    </tr>\n",
       "    <tr>\n",
       "      <th>21260</th>\n",
       "      <td>Serviced apartment</td>\n",
       "      <td>Entire home/apt</td>\n",
       "      <td>2</td>\n",
       "    </tr>\n",
       "    <tr>\n",
       "      <th>21271</th>\n",
       "      <td>Serviced apartment</td>\n",
       "      <td>Entire home/apt</td>\n",
       "      <td>2</td>\n",
       "    </tr>\n",
       "    <tr>\n",
       "      <th>21280</th>\n",
       "      <td>Serviced apartment</td>\n",
       "      <td>Entire home/apt</td>\n",
       "      <td>1</td>\n",
       "    </tr>\n",
       "    <tr>\n",
       "      <th>21281</th>\n",
       "      <td>Serviced apartment</td>\n",
       "      <td>Entire home/apt</td>\n",
       "      <td>2</td>\n",
       "    </tr>\n",
       "    <tr>\n",
       "      <th>21312</th>\n",
       "      <td>Apartment</td>\n",
       "      <td>Entire home/apt</td>\n",
       "      <td>3</td>\n",
       "    </tr>\n",
       "    <tr>\n",
       "      <th>21332</th>\n",
       "      <td>Bed and breakfast</td>\n",
       "      <td>Private room</td>\n",
       "      <td>2</td>\n",
       "    </tr>\n",
       "  </tbody>\n",
       "</table>\n",
       "</div>"
      ],
      "text/plain": [
       "            property_type        room_type  accommodates\n",
       "10              Apartment  Entire home/apt             2\n",
       "1396            Apartment  Entire home/apt             2\n",
       "1608            Apartment  Entire home/apt             2\n",
       "2235            Apartment  Entire home/apt             2\n",
       "5118            Apartment  Entire home/apt             2\n",
       "5203            Apartment  Entire home/apt             2\n",
       "6197            Apartment  Entire home/apt             3\n",
       "8257            Apartment  Entire home/apt             4\n",
       "8294            Apartment  Entire home/apt             3\n",
       "8638          Condominium  Entire home/apt             3\n",
       "11938           Apartment     Private room             1\n",
       "21259  Serviced apartment  Entire home/apt             1\n",
       "21260  Serviced apartment  Entire home/apt             2\n",
       "21271  Serviced apartment  Entire home/apt             2\n",
       "21280  Serviced apartment  Entire home/apt             1\n",
       "21281  Serviced apartment  Entire home/apt             2\n",
       "21312           Apartment  Entire home/apt             3\n",
       "21332   Bed and breakfast     Private room             2"
      ]
     },
     "execution_count": 152,
     "metadata": {},
     "output_type": "execute_result"
    }
   ],
   "source": [
    "listings[listings['bedrooms'].isnull()][['property_type', 'room_type', 'accommodates']]"
   ]
  },
  {
   "cell_type": "code",
   "execution_count": 153,
   "metadata": {},
   "outputs": [
    {
     "data": {
      "text/plain": [
       "accommodates           0.626890\n",
       "beds                   0.606399\n",
       "square_feet            0.486248\n",
       "price                  0.468868\n",
       "guests_included        0.384301\n",
       "cleaning_fee           0.310133\n",
       "bathrooms              0.303755\n",
       "extra_people           0.137417\n",
       "cancellation_policy    0.119857\n",
       "is_location_exact      0.020709\n",
       "latitude               0.008599\n",
       "minimum_nights         0.005595\n",
       "maximum_nights        -0.002645\n",
       "longitude             -0.005355\n",
       "instant_bookable      -0.013201\n",
       "Name: bedrooms, dtype: float64"
      ]
     },
     "execution_count": 153,
     "metadata": {},
     "output_type": "execute_result"
    }
   ],
   "source": [
    "listings.corr()['bedrooms'].sort_values(ascending=False)[1:]"
   ]
  },
  {
   "cell_type": "markdown",
   "metadata": {},
   "source": [
    "It makes sense to use the accommodates column to fill the missing values, as they are the most highly correlated."
   ]
  },
  {
   "cell_type": "code",
   "execution_count": 154,
   "metadata": {},
   "outputs": [
    {
     "data": {
      "text/plain": [
       "accommodates\n",
       "1              1\n",
       "2              1\n",
       "3              1\n",
       "4              1\n",
       "5              2\n",
       "6              2\n",
       "7              3\n",
       "8              3\n",
       "9              2\n",
       "10             3\n",
       "11             5\n",
       "12             3\n",
       "13    [3.0, 4.0]\n",
       "14             5\n",
       "15             4\n",
       "16             5\n",
       "Name: bedrooms, dtype: object"
      ]
     },
     "execution_count": 154,
     "metadata": {},
     "output_type": "execute_result"
    }
   ],
   "source": [
    "listings.groupby('accommodates')['bedrooms'].agg(pd.Series.mode)"
   ]
  },
  {
   "cell_type": "markdown",
   "metadata": {},
   "source": [
    "All of our listings with missing bedrooms values have accommodates values between 1 and 4. The most common number of bedrooms for listings the accomodate 1 to 4 is 1 bedroom for all. It therefore makes sense to fill all the missing bedroom values with 1."
   ]
  },
  {
   "cell_type": "code",
   "execution_count": 155,
   "metadata": {},
   "outputs": [],
   "source": [
    "listings['bedrooms'] = listings['bedrooms'].fillna(1)"
   ]
  },
  {
   "cell_type": "markdown",
   "metadata": {},
   "source": [
    "### Beds"
   ]
  },
  {
   "cell_type": "code",
   "execution_count": 156,
   "metadata": {},
   "outputs": [
    {
     "data": {
      "text/plain": [
       "accommodates           0.792433\n",
       "bedrooms               0.606370\n",
       "price                  0.452463\n",
       "guests_included        0.444171\n",
       "square_feet            0.387882\n",
       "cleaning_fee           0.294383\n",
       "bathrooms              0.255530\n",
       "extra_people           0.196813\n",
       "cancellation_policy    0.162115\n",
       "is_location_exact      0.051145\n",
       "instant_bookable       0.049816\n",
       "latitude               0.012542\n",
       "minimum_nights         0.008693\n",
       "maximum_nights        -0.005655\n",
       "longitude             -0.011015\n",
       "Name: beds, dtype: float64"
      ]
     },
     "execution_count": 156,
     "metadata": {},
     "output_type": "execute_result"
    }
   ],
   "source": [
    "listings.corr()['beds'].sort_values(ascending=False)[1:]"
   ]
  },
  {
   "cell_type": "markdown",
   "metadata": {},
   "source": [
    "There is a very high correlation between accomodates and beds, therefore it makes sense to fill these values in the same way we did above."
   ]
  },
  {
   "cell_type": "code",
   "execution_count": 157,
   "metadata": {},
   "outputs": [],
   "source": [
    "beds_mode = listings.groupby('accommodates')['beds'].agg(pd.Series.mode)\n",
    "listings['beds'] = listings.apply(\n",
    "    lambda x: np.nan_to_num(x['beds'], nan=beds_mode[x['accommodates']].mean()), axis=1\n",
    ")"
   ]
  },
  {
   "cell_type": "markdown",
   "metadata": {},
   "source": [
    "### Bathrooms"
   ]
  },
  {
   "cell_type": "code",
   "execution_count": 158,
   "metadata": {},
   "outputs": [
    {
     "data": {
      "text/plain": [
       "square_feet            0.347321\n",
       "bedrooms               0.303766\n",
       "beds                   0.255417\n",
       "price                  0.251163\n",
       "accommodates           0.243170\n",
       "guests_included        0.176524\n",
       "cleaning_fee           0.161011\n",
       "extra_people           0.058756\n",
       "is_location_exact      0.034665\n",
       "cancellation_policy    0.031344\n",
       "instant_bookable       0.012190\n",
       "latitude              -0.001963\n",
       "maximum_nights        -0.002993\n",
       "minimum_nights        -0.005207\n",
       "longitude             -0.008316\n",
       "Name: bathrooms, dtype: float64"
      ]
     },
     "execution_count": 158,
     "metadata": {},
     "output_type": "execute_result"
    }
   ],
   "source": [
    "listings.corr()['bathrooms'].sort_values(ascending=False)[1:]"
   ]
  },
  {
   "cell_type": "markdown",
   "metadata": {},
   "source": [
    "None of the other features are very highly correlated with bathrooms. Let's look at how the number of bathrooms are distributed."
   ]
  },
  {
   "cell_type": "code",
   "execution_count": 159,
   "metadata": {},
   "outputs": [
    {
     "data": {
      "text/plain": [
       "1.0    19758\n",
       "2.0     1251\n",
       "1.5     1144\n",
       "0.5      102\n",
       "2.5       71\n",
       "3.0       48\n",
       "0.0       41\n",
       "4.0       10\n",
       "8.5        3\n",
       "7.5        2\n",
       "3.5        2\n",
       "5.0        2\n",
       "8.0        2\n",
       "7.0        2\n",
       "4.5        1\n",
       "6.0        1\n",
       "Name: bathrooms, dtype: int64"
      ]
     },
     "execution_count": 159,
     "metadata": {},
     "output_type": "execute_result"
    }
   ],
   "source": [
    "listings['bathrooms'].value_counts()"
   ]
  },
  {
   "cell_type": "markdown",
   "metadata": {},
   "source": [
    "The most common value by some distance is 1, it makes sense to fill any missing values with this."
   ]
  },
  {
   "cell_type": "code",
   "execution_count": 160,
   "metadata": {},
   "outputs": [],
   "source": [
    "listings['bathrooms'] = listings['bathrooms'].fillna(1)"
   ]
  },
  {
   "cell_type": "markdown",
   "metadata": {},
   "source": [
    "### Cleaning Fee\n",
    "\n",
    "For missing cleaning fees I will assume it is either missing because it is zero or is missing because it is included in the price. So will fill any missing values with 0."
   ]
  },
  {
   "cell_type": "code",
   "execution_count": 161,
   "metadata": {},
   "outputs": [],
   "source": [
    "listings['cleaning_fee'] = listings['cleaning_fee'].fillna(0)"
   ]
  },
  {
   "cell_type": "markdown",
   "metadata": {},
   "source": [
    "## Relabeling Categorical Data\n",
    "\n",
    "### Property Type\n",
    "\n",
    "First lets combine similar property types."
   ]
  },
  {
   "cell_type": "code",
   "execution_count": 162,
   "metadata": {},
   "outputs": [],
   "source": [
    "property_map = {\n",
    "    'Townhouse': \"House\",\n",
    "    'Guesthouse': \"House\",\n",
    "    'Villa': \"House\",\n",
    "    'Bungalow': \"House\",\n",
    "    'Cottage': \"House\",\n",
    "    'Boutique hotel': \"Hotel\",\n",
    "    'Aparthotel': \"Hotel\",\n",
    "}\n",
    "listings['property_type'] = listings['property_type'].apply(lambda x: property_map.get(x, x))"
   ]
  },
  {
   "cell_type": "markdown",
   "metadata": {},
   "source": [
    "Now we will group any property types containing less than 50 listings to be a 'Other'."
   ]
  },
  {
   "cell_type": "code",
   "execution_count": 163,
   "metadata": {},
   "outputs": [],
   "source": [
    "other_properties = (listings['property_type'].value_counts() < 50)\n",
    "listings['property_type'] = listings['property_type'].apply(lambda x: np.where(other_properties[x], 'Other', x))"
   ]
  },
  {
   "cell_type": "markdown",
   "metadata": {},
   "source": [
    "Now we have cleaned the data we can save it as a csv for feature engineering."
   ]
  },
  {
   "cell_type": "code",
   "execution_count": 164,
   "metadata": {},
   "outputs": [],
   "source": [
    "PROCESSED_PATH = Path('../data/processed/')\n",
    "listings.to_csv(PROCESSED_PATH/'cleaned_listings.csv', index=False)"
   ]
  }
 ],
 "metadata": {
  "kernelspec": {
   "display_name": "berlin_airbnb",
   "language": "python",
   "name": "berlin_airbnb"
  },
  "language_info": {
   "codemirror_mode": {
    "name": "ipython",
    "version": 3
   },
   "file_extension": ".py",
   "mimetype": "text/x-python",
   "name": "python",
   "nbconvert_exporter": "python",
   "pygments_lexer": "ipython3",
   "version": "3.7.3"
  }
 },
 "nbformat": 4,
 "nbformat_minor": 2
}
